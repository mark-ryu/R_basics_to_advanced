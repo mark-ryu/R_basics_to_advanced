{
 "cells": [
  {
   "cell_type": "markdown",
   "metadata": {},
   "source": [
    "# Basics of R"
   ]
  },
  {
   "cell_type": "markdown",
   "metadata": {},
   "source": [
    "Basic commands\n",
    "\n",
    "This is the syntax for installing packages in R.\n",
    "\n",
    ">`install.packages(\"dslabs\")`\n",
    "\n",
    "To load a library\n",
    "\n",
    "> `library(library_name)`\n",
    "Sample of using quadratic formula direct into your console\n",
    "> `(-b + sqrt(b^2 - 4*a*c))/(2/a)`\n",
    "\n",
    "Assignment\n",
    "> `variable_name <- value`\n",
    "\n",
    "See all variables saved in your workspace\n",
    "> `ls()`\n",
    "\n",
    "You can also use functions inside of functions which are called **nested functions.** It works as inside out.\n",
    "> `log(exp(1))`\n",
    "\n",
    "You can help from functions using a `?` after a function or using this syntax.\n",
    "> `help(\"function_name\")`\n",
    "\n",
    "> `?log`\n",
    "\n",
    "> `function.method?`\n",
    "\n",
    "What is inside the parenthesis are called arguments. So you can call the arguments needed for the function using the syntax.\n",
    "\n",
    "> `args(function_name)`\n",
    "\n",
    "You can also check the type of object using this\n",
    "\n",
    "> `class(variable_or_anything)`\n",
    "\n",
    "Function `str` or structure will give you the structure of the object.\n",
    "\n",
    "> `str(object)`\n",
    "\n",
    "Head - First 6 rows\n",
    "\n",
    "> `head(dataframe)`\n",
    "\n",
    "\n",
    "In your dataframe there is this accessor."
   ]
  },
  {
   "cell_type": "code",
   "execution_count": 1,
   "metadata": {},
   "outputs": [],
   "source": [
    "#install.packages(dslabs) you should uncomment and run this"
   ]
  },
  {
   "cell_type": "code",
   "execution_count": 2,
   "metadata": {},
   "outputs": [],
   "source": [
    "library(dslabs) # This is a custom library created for this "
   ]
  },
  {
   "cell_type": "code",
   "execution_count": 3,
   "metadata": {},
   "outputs": [],
   "source": [
    "data(\"murders\") # murders is a dataframe / spreadsheet if you may call it, but different format"
   ]
  },
  {
   "cell_type": "code",
   "execution_count": 4,
   "metadata": {},
   "outputs": [
    {
     "data": {
      "text/html": [
       "<table>\n",
       "<thead><tr><th scope=col>state</th><th scope=col>abb</th><th scope=col>region</th><th scope=col>population</th><th scope=col>total</th></tr></thead>\n",
       "<tbody>\n",
       "\t<tr><td>Alabama   </td><td>AL        </td><td>South     </td><td> 4779736  </td><td> 135      </td></tr>\n",
       "\t<tr><td>Alaska    </td><td>AK        </td><td>West      </td><td>  710231  </td><td>  19      </td></tr>\n",
       "\t<tr><td>Arizona   </td><td>AZ        </td><td>West      </td><td> 6392017  </td><td> 232      </td></tr>\n",
       "\t<tr><td>Arkansas  </td><td>AR        </td><td>South     </td><td> 2915918  </td><td>  93      </td></tr>\n",
       "\t<tr><td>California</td><td>CA        </td><td>West      </td><td>37253956  </td><td>1257      </td></tr>\n",
       "\t<tr><td>Colorado  </td><td>CO        </td><td>West      </td><td> 5029196  </td><td>  65      </td></tr>\n",
       "</tbody>\n",
       "</table>\n"
      ],
      "text/latex": [
       "\\begin{tabular}{r|lllll}\n",
       " state & abb & region & population & total\\\\\n",
       "\\hline\n",
       "\t Alabama    & AL         & South      &  4779736   &  135      \\\\\n",
       "\t Alaska     & AK         & West       &   710231   &   19      \\\\\n",
       "\t Arizona    & AZ         & West       &  6392017   &  232      \\\\\n",
       "\t Arkansas   & AR         & South      &  2915918   &   93      \\\\\n",
       "\t California & CA         & West       & 37253956   & 1257      \\\\\n",
       "\t Colorado   & CO         & West       &  5029196   &   65      \\\\\n",
       "\\end{tabular}\n"
      ],
      "text/markdown": [
       "\n",
       "state | abb | region | population | total | \n",
       "|---|---|---|---|---|---|\n",
       "| Alabama    | AL         | South      |  4779736   |  135       | \n",
       "| Alaska     | AK         | West       |   710231   |   19       | \n",
       "| Arizona    | AZ         | West       |  6392017   |  232       | \n",
       "| Arkansas   | AR         | South      |  2915918   |   93       | \n",
       "| California | CA         | West       | 37253956   | 1257       | \n",
       "| Colorado   | CO         | West       |  5029196   |   65       | \n",
       "\n",
       "\n"
      ],
      "text/plain": [
       "  state      abb region population total\n",
       "1 Alabama    AL  South   4779736    135 \n",
       "2 Alaska     AK  West     710231     19 \n",
       "3 Arizona    AZ  West    6392017    232 \n",
       "4 Arkansas   AR  South   2915918     93 \n",
       "5 California CA  West   37253956   1257 \n",
       "6 Colorado   CO  West    5029196     65 "
      ]
     },
     "metadata": {},
     "output_type": "display_data"
    }
   ],
   "source": [
    "head(murders) # head just shows first 6 rows"
   ]
  },
  {
   "cell_type": "code",
   "execution_count": 5,
   "metadata": {},
   "outputs": [
    {
     "data": {
      "text/html": [
       "<ol class=list-inline>\n",
       "\t<li>4779736</li>\n",
       "\t<li>710231</li>\n",
       "\t<li>6392017</li>\n",
       "\t<li>2915918</li>\n",
       "\t<li>37253956</li>\n",
       "\t<li>5029196</li>\n",
       "\t<li>3574097</li>\n",
       "\t<li>897934</li>\n",
       "\t<li>601723</li>\n",
       "\t<li>19687653</li>\n",
       "\t<li>9920000</li>\n",
       "\t<li>1360301</li>\n",
       "\t<li>1567582</li>\n",
       "\t<li>12830632</li>\n",
       "\t<li>6483802</li>\n",
       "\t<li>3046355</li>\n",
       "\t<li>2853118</li>\n",
       "\t<li>4339367</li>\n",
       "\t<li>4533372</li>\n",
       "\t<li>1328361</li>\n",
       "\t<li>5773552</li>\n",
       "\t<li>6547629</li>\n",
       "\t<li>9883640</li>\n",
       "\t<li>5303925</li>\n",
       "\t<li>2967297</li>\n",
       "\t<li>5988927</li>\n",
       "\t<li>989415</li>\n",
       "\t<li>1826341</li>\n",
       "\t<li>2700551</li>\n",
       "\t<li>1316470</li>\n",
       "\t<li>8791894</li>\n",
       "\t<li>2059179</li>\n",
       "\t<li>19378102</li>\n",
       "\t<li>9535483</li>\n",
       "\t<li>672591</li>\n",
       "\t<li>11536504</li>\n",
       "\t<li>3751351</li>\n",
       "\t<li>3831074</li>\n",
       "\t<li>12702379</li>\n",
       "\t<li>1052567</li>\n",
       "\t<li>4625364</li>\n",
       "\t<li>814180</li>\n",
       "\t<li>6346105</li>\n",
       "\t<li>25145561</li>\n",
       "\t<li>2763885</li>\n",
       "\t<li>625741</li>\n",
       "\t<li>8001024</li>\n",
       "\t<li>6724540</li>\n",
       "\t<li>1852994</li>\n",
       "\t<li>5686986</li>\n",
       "\t<li>563626</li>\n",
       "</ol>\n"
      ],
      "text/latex": [
       "\\begin{enumerate*}\n",
       "\\item 4779736\n",
       "\\item 710231\n",
       "\\item 6392017\n",
       "\\item 2915918\n",
       "\\item 37253956\n",
       "\\item 5029196\n",
       "\\item 3574097\n",
       "\\item 897934\n",
       "\\item 601723\n",
       "\\item 19687653\n",
       "\\item 9920000\n",
       "\\item 1360301\n",
       "\\item 1567582\n",
       "\\item 12830632\n",
       "\\item 6483802\n",
       "\\item 3046355\n",
       "\\item 2853118\n",
       "\\item 4339367\n",
       "\\item 4533372\n",
       "\\item 1328361\n",
       "\\item 5773552\n",
       "\\item 6547629\n",
       "\\item 9883640\n",
       "\\item 5303925\n",
       "\\item 2967297\n",
       "\\item 5988927\n",
       "\\item 989415\n",
       "\\item 1826341\n",
       "\\item 2700551\n",
       "\\item 1316470\n",
       "\\item 8791894\n",
       "\\item 2059179\n",
       "\\item 19378102\n",
       "\\item 9535483\n",
       "\\item 672591\n",
       "\\item 11536504\n",
       "\\item 3751351\n",
       "\\item 3831074\n",
       "\\item 12702379\n",
       "\\item 1052567\n",
       "\\item 4625364\n",
       "\\item 814180\n",
       "\\item 6346105\n",
       "\\item 25145561\n",
       "\\item 2763885\n",
       "\\item 625741\n",
       "\\item 8001024\n",
       "\\item 6724540\n",
       "\\item 1852994\n",
       "\\item 5686986\n",
       "\\item 563626\n",
       "\\end{enumerate*}\n"
      ],
      "text/markdown": [
       "1. 4779736\n",
       "2. 710231\n",
       "3. 6392017\n",
       "4. 2915918\n",
       "5. 37253956\n",
       "6. 5029196\n",
       "7. 3574097\n",
       "8. 897934\n",
       "9. 601723\n",
       "10. 19687653\n",
       "11. 9920000\n",
       "12. 1360301\n",
       "13. 1567582\n",
       "14. 12830632\n",
       "15. 6483802\n",
       "16. 3046355\n",
       "17. 2853118\n",
       "18. 4339367\n",
       "19. 4533372\n",
       "20. 1328361\n",
       "21. 5773552\n",
       "22. 6547629\n",
       "23. 9883640\n",
       "24. 5303925\n",
       "25. 2967297\n",
       "26. 5988927\n",
       "27. 989415\n",
       "28. 1826341\n",
       "29. 2700551\n",
       "30. 1316470\n",
       "31. 8791894\n",
       "32. 2059179\n",
       "33. 19378102\n",
       "34. 9535483\n",
       "35. 672591\n",
       "36. 11536504\n",
       "37. 3751351\n",
       "38. 3831074\n",
       "39. 12702379\n",
       "40. 1052567\n",
       "41. 4625364\n",
       "42. 814180\n",
       "43. 6346105\n",
       "44. 25145561\n",
       "45. 2763885\n",
       "46. 625741\n",
       "47. 8001024\n",
       "48. 6724540\n",
       "49. 1852994\n",
       "50. 5686986\n",
       "51. 563626\n",
       "\n",
       "\n"
      ],
      "text/plain": [
       " [1]  4779736   710231  6392017  2915918 37253956  5029196  3574097   897934\n",
       " [9]   601723 19687653  9920000  1360301  1567582 12830632  6483802  3046355\n",
       "[17]  2853118  4339367  4533372  1328361  5773552  6547629  9883640  5303925\n",
       "[25]  2967297  5988927   989415  1826341  2700551  1316470  8791894  2059179\n",
       "[33] 19378102  9535483   672591 11536504  3751351  3831074 12702379  1052567\n",
       "[41]  4625364   814180  6346105 25145561  2763885   625741  8001024  6724540\n",
       "[49]  1852994  5686986   563626"
      ]
     },
     "metadata": {},
     "output_type": "display_data"
    }
   ],
   "source": [
    "murders$population # using the $ sign and then the column name will return values from that column"
   ]
  },
  {
   "cell_type": "code",
   "execution_count": 6,
   "metadata": {},
   "outputs": [
    {
     "data": {
      "text/html": [
       "<ol class=list-inline>\n",
       "\t<li>'state'</li>\n",
       "\t<li>'abb'</li>\n",
       "\t<li>'region'</li>\n",
       "\t<li>'population'</li>\n",
       "\t<li>'total'</li>\n",
       "</ol>\n"
      ],
      "text/latex": [
       "\\begin{enumerate*}\n",
       "\\item 'state'\n",
       "\\item 'abb'\n",
       "\\item 'region'\n",
       "\\item 'population'\n",
       "\\item 'total'\n",
       "\\end{enumerate*}\n"
      ],
      "text/markdown": [
       "1. 'state'\n",
       "2. 'abb'\n",
       "3. 'region'\n",
       "4. 'population'\n",
       "5. 'total'\n",
       "\n",
       "\n"
      ],
      "text/plain": [
       "[1] \"state\"      \"abb\"        \"region\"     \"population\" \"total\"     "
      ]
     },
     "metadata": {},
     "output_type": "display_data"
    }
   ],
   "source": [
    "names(murders) # shows what are the headers or the column names in your dataframe"
   ]
  },
  {
   "cell_type": "code",
   "execution_count": 7,
   "metadata": {},
   "outputs": [],
   "source": [
    "pop <- murders$population # saving a column  to a variable"
   ]
  },
  {
   "cell_type": "code",
   "execution_count": 8,
   "metadata": {},
   "outputs": [
    {
     "data": {
      "text/html": [
       "51"
      ],
      "text/latex": [
       "51"
      ],
      "text/markdown": [
       "51"
      ],
      "text/plain": [
       "[1] 51"
      ]
     },
     "metadata": {},
     "output_type": "display_data"
    }
   ],
   "source": [
    "length(pop) # the length function returns a value of how many values there are in that vector or series"
   ]
  },
  {
   "cell_type": "markdown",
   "metadata": {},
   "source": [
    "You will be using quotes to distinguish from character strings to variable names.\n",
    "\n",
    "Relational Operators are just Booleans.\n",
    "\n",
    "Factors are used to save categorical data."
   ]
  },
  {
   "cell_type": "code",
   "execution_count": 9,
   "metadata": {},
   "outputs": [
    {
     "data": {
      "text/html": [
       "'numeric'"
      ],
      "text/latex": [
       "'numeric'"
      ],
      "text/markdown": [
       "'numeric'"
      ],
      "text/plain": [
       "[1] \"numeric\""
      ]
     },
     "metadata": {},
     "output_type": "display_data"
    }
   ],
   "source": [
    "class(pop) # class function returns what type of data is the object (numeric, character, factor, integer, float)"
   ]
  },
  {
   "cell_type": "code",
   "execution_count": 10,
   "metadata": {},
   "outputs": [
    {
     "data": {
      "text/html": [
       "<ol class=list-inline>\n",
       "\t<li>'Northeast'</li>\n",
       "\t<li>'South'</li>\n",
       "\t<li>'North Central'</li>\n",
       "\t<li>'West'</li>\n",
       "</ol>\n"
      ],
      "text/latex": [
       "\\begin{enumerate*}\n",
       "\\item 'Northeast'\n",
       "\\item 'South'\n",
       "\\item 'North Central'\n",
       "\\item 'West'\n",
       "\\end{enumerate*}\n"
      ],
      "text/markdown": [
       "1. 'Northeast'\n",
       "2. 'South'\n",
       "3. 'North Central'\n",
       "4. 'West'\n",
       "\n",
       "\n"
      ],
      "text/plain": [
       "[1] \"Northeast\"     \"South\"         \"North Central\" \"West\"         "
      ]
     },
     "metadata": {},
     "output_type": "display_data"
    }
   ],
   "source": [
    "levels(murders$region) # levels function only works if the data are factors\n",
    "# factors are boolean values, in this case it can just be either 4 of these categories"
   ]
  },
  {
   "cell_type": "code",
   "execution_count": 11,
   "metadata": {},
   "outputs": [
    {
     "data": {
      "text/html": [
       "<table>\n",
       "<thead><tr><th scope=col>population</th></tr></thead>\n",
       "<tbody>\n",
       "\t<tr><td> 4779736</td></tr>\n",
       "\t<tr><td>  710231</td></tr>\n",
       "\t<tr><td> 6392017</td></tr>\n",
       "\t<tr><td> 2915918</td></tr>\n",
       "\t<tr><td>37253956</td></tr>\n",
       "\t<tr><td> 5029196</td></tr>\n",
       "</tbody>\n",
       "</table>\n"
      ],
      "text/latex": [
       "\\begin{tabular}{r|l}\n",
       " population\\\\\n",
       "\\hline\n",
       "\t  4779736\\\\\n",
       "\t   710231\\\\\n",
       "\t  6392017\\\\\n",
       "\t  2915918\\\\\n",
       "\t 37253956\\\\\n",
       "\t  5029196\\\\\n",
       "\\end{tabular}\n"
      ],
      "text/markdown": [
       "\n",
       "population | \n",
       "|---|---|---|---|---|---|\n",
       "|  4779736 | \n",
       "|   710231 | \n",
       "|  6392017 | \n",
       "|  2915918 | \n",
       "| 37253956 | \n",
       "|  5029196 | \n",
       "\n",
       "\n"
      ],
      "text/plain": [
       "  population\n",
       "1  4779736  \n",
       "2   710231  \n",
       "3  6392017  \n",
       "4  2915918  \n",
       "5 37253956  \n",
       "6  5029196  "
      ]
     },
     "metadata": {},
     "output_type": "display_data"
    }
   ],
   "source": [
    "head(murders[\"population\"]) #this will return a dataframe instead of a vector\n",
    "# this is a different syntax and will return values in a table format"
   ]
  },
  {
   "cell_type": "code",
   "execution_count": 12,
   "metadata": {},
   "outputs": [],
   "source": [
    "b <- murders[[\"abb\"]] # 2 brackets to proved format the same as using the dollar sign $"
   ]
  },
  {
   "cell_type": "code",
   "execution_count": 13,
   "metadata": {},
   "outputs": [],
   "source": [
    "a <- murders$abb # the same result as above"
   ]
  },
  {
   "cell_type": "code",
   "execution_count": 14,
   "metadata": {},
   "outputs": [
    {
     "data": {
      "text/html": [
       "TRUE"
      ],
      "text/latex": [
       "TRUE"
      ],
      "text/markdown": [
       "TRUE"
      ],
      "text/plain": [
       "[1] TRUE"
      ]
     },
     "metadata": {},
     "output_type": "display_data"
    }
   ],
   "source": [
    "identical(a,b) # a function to check if 2 objects are `exactly` the same"
   ]
  },
  {
   "cell_type": "code",
   "execution_count": 15,
   "metadata": {},
   "outputs": [],
   "source": [
    "#help(identical)"
   ]
  },
  {
   "cell_type": "code",
   "execution_count": 16,
   "metadata": {},
   "outputs": [
    {
     "data": {
      "text/plain": [
       "\n",
       "    Northeast         South North Central          West \n",
       "            9            17            12            13 "
      ]
     },
     "metadata": {},
     "output_type": "display_data"
    }
   ],
   "source": [
    "table(murders$region) \n",
    "#this table shows the number of occurences of each factor (only works because the class of region is a factor)"
   ]
  },
  {
   "cell_type": "code",
   "execution_count": 17,
   "metadata": {},
   "outputs": [],
   "source": [
    "codes <- c(italy=380,canada = 124, egypt = 818) # kind of works like a dictionary"
   ]
  },
  {
   "cell_type": "code",
   "execution_count": 18,
   "metadata": {},
   "outputs": [
    {
     "data": {
      "text/html": [
       "<dl class=dl-horizontal>\n",
       "\t<dt>italy</dt>\n",
       "\t\t<dd>380</dd>\n",
       "\t<dt>canada</dt>\n",
       "\t\t<dd>124</dd>\n",
       "\t<dt>egypt</dt>\n",
       "\t\t<dd>818</dd>\n",
       "</dl>\n"
      ],
      "text/latex": [
       "\\begin{description*}\n",
       "\\item[italy] 380\n",
       "\\item[canada] 124\n",
       "\\item[egypt] 818\n",
       "\\end{description*}\n"
      ],
      "text/markdown": [
       "italy\n",
       ":   380canada\n",
       ":   124egypt\n",
       ":   818\n",
       "\n"
      ],
      "text/plain": [
       " italy canada  egypt \n",
       "   380    124    818 "
      ]
     },
     "metadata": {},
     "output_type": "display_data"
    }
   ],
   "source": [
    "codes"
   ]
  },
  {
   "cell_type": "code",
   "execution_count": 19,
   "metadata": {},
   "outputs": [],
   "source": [
    "names(codes) <- codes"
   ]
  },
  {
   "cell_type": "code",
   "execution_count": 20,
   "metadata": {},
   "outputs": [
    {
     "data": {
      "text/html": [
       "<dl class=dl-horizontal>\n",
       "\t<dt>380</dt>\n",
       "\t\t<dd>380</dd>\n",
       "\t<dt>124</dt>\n",
       "\t\t<dd>124</dd>\n",
       "\t<dt>818</dt>\n",
       "\t\t<dd>818</dd>\n",
       "</dl>\n"
      ],
      "text/latex": [
       "\\begin{description*}\n",
       "\\item[380] 380\n",
       "\\item[124] 124\n",
       "\\item[818] 818\n",
       "\\end{description*}\n"
      ],
      "text/markdown": [
       "380\n",
       ":   380124\n",
       ":   124818\n",
       ":   818\n",
       "\n"
      ],
      "text/plain": [
       "380 124 818 \n",
       "380 124 818 "
      ]
     },
     "metadata": {},
     "output_type": "display_data"
    }
   ],
   "source": [
    "codes"
   ]
  },
  {
   "cell_type": "code",
   "execution_count": 21,
   "metadata": {},
   "outputs": [
    {
     "data": {
      "text/html": [
       "<ol class=list-inline>\n",
       "\t<li>1</li>\n",
       "\t<li>3</li>\n",
       "\t<li>5</li>\n",
       "\t<li>7</li>\n",
       "\t<li>9</li>\n",
       "</ol>\n"
      ],
      "text/latex": [
       "\\begin{enumerate*}\n",
       "\\item 1\n",
       "\\item 3\n",
       "\\item 5\n",
       "\\item 7\n",
       "\\item 9\n",
       "\\end{enumerate*}\n"
      ],
      "text/markdown": [
       "1. 1\n",
       "2. 3\n",
       "3. 5\n",
       "4. 7\n",
       "5. 9\n",
       "\n",
       "\n"
      ],
      "text/plain": [
       "[1] 1 3 5 7 9"
      ]
     },
     "metadata": {},
     "output_type": "display_data"
    }
   ],
   "source": [
    "seq(1,10,2)"
   ]
  },
  {
   "cell_type": "code",
   "execution_count": 22,
   "metadata": {},
   "outputs": [
    {
     "data": {
      "text/html": [
       "<ol class=list-inline>\n",
       "\t<li>1</li>\n",
       "\t<li>2</li>\n",
       "\t<li>3</li>\n",
       "\t<li>4</li>\n",
       "\t<li>5</li>\n",
       "\t<li>6</li>\n",
       "\t<li>7</li>\n",
       "\t<li>8</li>\n",
       "\t<li>9</li>\n",
       "\t<li>10</li>\n",
       "</ol>\n"
      ],
      "text/latex": [
       "\\begin{enumerate*}\n",
       "\\item 1\n",
       "\\item 2\n",
       "\\item 3\n",
       "\\item 4\n",
       "\\item 5\n",
       "\\item 6\n",
       "\\item 7\n",
       "\\item 8\n",
       "\\item 9\n",
       "\\item 10\n",
       "\\end{enumerate*}\n"
      ],
      "text/markdown": [
       "1. 1\n",
       "2. 2\n",
       "3. 3\n",
       "4. 4\n",
       "5. 5\n",
       "6. 6\n",
       "7. 7\n",
       "8. 8\n",
       "9. 9\n",
       "10. 10\n",
       "\n",
       "\n"
      ],
      "text/plain": [
       " [1]  1  2  3  4  5  6  7  8  9 10"
      ]
     },
     "metadata": {},
     "output_type": "display_data"
    }
   ],
   "source": [
    "1:10"
   ]
  },
  {
   "cell_type": "code",
   "execution_count": 23,
   "metadata": {},
   "outputs": [
    {
     "data": {
      "text/html": [
       "<strong>124:</strong> 124"
      ],
      "text/latex": [
       "\\textbf{124:} 124"
      ],
      "text/markdown": [
       "**124:** 124"
      ],
      "text/plain": [
       "124 \n",
       "124 "
      ]
     },
     "metadata": {},
     "output_type": "display_data"
    }
   ],
   "source": [
    "codes[2]"
   ]
  },
  {
   "cell_type": "code",
   "execution_count": 24,
   "metadata": {},
   "outputs": [
    {
     "data": {
      "text/html": [
       "<strong>124:</strong> 124"
      ],
      "text/latex": [
       "\\textbf{124:} 124"
      ],
      "text/markdown": [
       "**124:** 124"
      ],
      "text/plain": [
       "124 \n",
       "124 "
      ]
     },
     "metadata": {},
     "output_type": "display_data"
    }
   ],
   "source": [
    "codes[\"124\"]"
   ]
  },
  {
   "cell_type": "code",
   "execution_count": 25,
   "metadata": {},
   "outputs": [
    {
     "data": {
      "text/html": [
       "<ol class=list-inline>\n",
       "\t<li>'1'</li>\n",
       "\t<li>'2'</li>\n",
       "\t<li>'3'</li>\n",
       "\t<li>'4'</li>\n",
       "\t<li>'5'</li>\n",
       "</ol>\n"
      ],
      "text/latex": [
       "\\begin{enumerate*}\n",
       "\\item '1'\n",
       "\\item '2'\n",
       "\\item '3'\n",
       "\\item '4'\n",
       "\\item '5'\n",
       "\\end{enumerate*}\n"
      ],
      "text/markdown": [
       "1. '1'\n",
       "2. '2'\n",
       "3. '3'\n",
       "4. '4'\n",
       "5. '5'\n",
       "\n",
       "\n"
      ],
      "text/plain": [
       "[1] \"1\" \"2\" \"3\" \"4\" \"5\""
      ]
     },
     "metadata": {},
     "output_type": "display_data"
    }
   ],
   "source": [
    "x <- 1:5\n",
    "y <- as.character(x) # changes the class of variable x into class character\n",
    "y"
   ]
  },
  {
   "cell_type": "code",
   "execution_count": 26,
   "metadata": {},
   "outputs": [
    {
     "data": {
      "text/html": [
       "<ol class=list-inline>\n",
       "\t<li>1</li>\n",
       "\t<li>2</li>\n",
       "\t<li>3</li>\n",
       "\t<li>4</li>\n",
       "\t<li>5</li>\n",
       "</ol>\n"
      ],
      "text/latex": [
       "\\begin{enumerate*}\n",
       "\\item 1\n",
       "\\item 2\n",
       "\\item 3\n",
       "\\item 4\n",
       "\\item 5\n",
       "\\end{enumerate*}\n"
      ],
      "text/markdown": [
       "1. 1\n",
       "2. 2\n",
       "3. 3\n",
       "4. 4\n",
       "5. 5\n",
       "\n",
       "\n"
      ],
      "text/plain": [
       "[1] 1 2 3 4 5"
      ]
     },
     "metadata": {},
     "output_type": "display_data"
    }
   ],
   "source": [
    "as.numeric(y)"
   ]
  },
  {
   "cell_type": "markdown",
   "metadata": {},
   "source": [
    "Sorting by the columns on total, this will sort the **`Values`** of the columns."
   ]
  },
  {
   "cell_type": "code",
   "execution_count": 27,
   "metadata": {},
   "outputs": [
    {
     "data": {
      "text/html": [
       "<ol class=list-inline>\n",
       "\t<li>2</li>\n",
       "\t<li>4</li>\n",
       "\t<li>5</li>\n",
       "\t<li>5</li>\n",
       "\t<li>7</li>\n",
       "\t<li>8</li>\n",
       "\t<li>11</li>\n",
       "\t<li>12</li>\n",
       "\t<li>12</li>\n",
       "\t<li>16</li>\n",
       "\t<li>19</li>\n",
       "\t<li>21</li>\n",
       "\t<li>22</li>\n",
       "\t<li>27</li>\n",
       "\t<li>32</li>\n",
       "\t<li>36</li>\n",
       "\t<li>38</li>\n",
       "\t<li>53</li>\n",
       "\t<li>63</li>\n",
       "\t<li>65</li>\n",
       "\t<li>67</li>\n",
       "\t<li>84</li>\n",
       "\t<li>93</li>\n",
       "\t<li>93</li>\n",
       "\t<li>97</li>\n",
       "\t<li>97</li>\n",
       "\t<li>99</li>\n",
       "\t<li>111</li>\n",
       "\t<li>116</li>\n",
       "\t<li>118</li>\n",
       "\t<li>120</li>\n",
       "\t<li>135</li>\n",
       "\t<li>142</li>\n",
       "\t<li>207</li>\n",
       "\t<li>219</li>\n",
       "\t<li>232</li>\n",
       "\t<li>246</li>\n",
       "\t<li>250</li>\n",
       "\t<li>286</li>\n",
       "\t<li>293</li>\n",
       "\t<li>310</li>\n",
       "\t<li>321</li>\n",
       "\t<li>351</li>\n",
       "\t<li>364</li>\n",
       "\t<li>376</li>\n",
       "\t<li>413</li>\n",
       "\t<li>457</li>\n",
       "\t<li>517</li>\n",
       "\t<li>669</li>\n",
       "\t<li>805</li>\n",
       "\t<li>1257</li>\n",
       "</ol>\n"
      ],
      "text/latex": [
       "\\begin{enumerate*}\n",
       "\\item 2\n",
       "\\item 4\n",
       "\\item 5\n",
       "\\item 5\n",
       "\\item 7\n",
       "\\item 8\n",
       "\\item 11\n",
       "\\item 12\n",
       "\\item 12\n",
       "\\item 16\n",
       "\\item 19\n",
       "\\item 21\n",
       "\\item 22\n",
       "\\item 27\n",
       "\\item 32\n",
       "\\item 36\n",
       "\\item 38\n",
       "\\item 53\n",
       "\\item 63\n",
       "\\item 65\n",
       "\\item 67\n",
       "\\item 84\n",
       "\\item 93\n",
       "\\item 93\n",
       "\\item 97\n",
       "\\item 97\n",
       "\\item 99\n",
       "\\item 111\n",
       "\\item 116\n",
       "\\item 118\n",
       "\\item 120\n",
       "\\item 135\n",
       "\\item 142\n",
       "\\item 207\n",
       "\\item 219\n",
       "\\item 232\n",
       "\\item 246\n",
       "\\item 250\n",
       "\\item 286\n",
       "\\item 293\n",
       "\\item 310\n",
       "\\item 321\n",
       "\\item 351\n",
       "\\item 364\n",
       "\\item 376\n",
       "\\item 413\n",
       "\\item 457\n",
       "\\item 517\n",
       "\\item 669\n",
       "\\item 805\n",
       "\\item 1257\n",
       "\\end{enumerate*}\n"
      ],
      "text/markdown": [
       "1. 2\n",
       "2. 4\n",
       "3. 5\n",
       "4. 5\n",
       "5. 7\n",
       "6. 8\n",
       "7. 11\n",
       "8. 12\n",
       "9. 12\n",
       "10. 16\n",
       "11. 19\n",
       "12. 21\n",
       "13. 22\n",
       "14. 27\n",
       "15. 32\n",
       "16. 36\n",
       "17. 38\n",
       "18. 53\n",
       "19. 63\n",
       "20. 65\n",
       "21. 67\n",
       "22. 84\n",
       "23. 93\n",
       "24. 93\n",
       "25. 97\n",
       "26. 97\n",
       "27. 99\n",
       "28. 111\n",
       "29. 116\n",
       "30. 118\n",
       "31. 120\n",
       "32. 135\n",
       "33. 142\n",
       "34. 207\n",
       "35. 219\n",
       "36. 232\n",
       "37. 246\n",
       "38. 250\n",
       "39. 286\n",
       "40. 293\n",
       "41. 310\n",
       "42. 321\n",
       "43. 351\n",
       "44. 364\n",
       "45. 376\n",
       "46. 413\n",
       "47. 457\n",
       "48. 517\n",
       "49. 669\n",
       "50. 805\n",
       "51. 1257\n",
       "\n",
       "\n"
      ],
      "text/plain": [
       " [1]    2    4    5    5    7    8   11   12   12   16   19   21   22   27   32\n",
       "[16]   36   38   53   63   65   67   84   93   93   97   97   99  111  116  118\n",
       "[31]  120  135  142  207  219  232  246  250  286  293  310  321  351  364  376\n",
       "[46]  413  457  517  669  805 1257"
      ]
     },
     "metadata": {},
     "output_type": "display_data"
    }
   ],
   "source": [
    "sort(murders$total)"
   ]
  },
  {
   "cell_type": "markdown",
   "metadata": {},
   "source": [
    "The `order` function puts the indices in order, not the values."
   ]
  },
  {
   "cell_type": "code",
   "execution_count": 28,
   "metadata": {},
   "outputs": [
    {
     "data": {
      "text/html": [
       "<ol class=list-inline>\n",
       "\t<li>2</li>\n",
       "\t<li>4</li>\n",
       "\t<li>5</li>\n",
       "\t<li>5</li>\n",
       "\t<li>7</li>\n",
       "\t<li>8</li>\n",
       "\t<li>11</li>\n",
       "\t<li>12</li>\n",
       "\t<li>12</li>\n",
       "\t<li>16</li>\n",
       "\t<li>19</li>\n",
       "\t<li>21</li>\n",
       "\t<li>22</li>\n",
       "\t<li>27</li>\n",
       "\t<li>32</li>\n",
       "\t<li>36</li>\n",
       "\t<li>38</li>\n",
       "\t<li>53</li>\n",
       "\t<li>63</li>\n",
       "\t<li>65</li>\n",
       "\t<li>67</li>\n",
       "\t<li>84</li>\n",
       "\t<li>93</li>\n",
       "\t<li>93</li>\n",
       "\t<li>97</li>\n",
       "\t<li>97</li>\n",
       "\t<li>99</li>\n",
       "\t<li>111</li>\n",
       "\t<li>116</li>\n",
       "\t<li>118</li>\n",
       "\t<li>120</li>\n",
       "\t<li>135</li>\n",
       "\t<li>142</li>\n",
       "\t<li>207</li>\n",
       "\t<li>219</li>\n",
       "\t<li>232</li>\n",
       "\t<li>246</li>\n",
       "\t<li>250</li>\n",
       "\t<li>286</li>\n",
       "\t<li>293</li>\n",
       "\t<li>310</li>\n",
       "\t<li>321</li>\n",
       "\t<li>351</li>\n",
       "\t<li>364</li>\n",
       "\t<li>376</li>\n",
       "\t<li>413</li>\n",
       "\t<li>457</li>\n",
       "\t<li>517</li>\n",
       "\t<li>669</li>\n",
       "\t<li>805</li>\n",
       "\t<li>1257</li>\n",
       "</ol>\n"
      ],
      "text/latex": [
       "\\begin{enumerate*}\n",
       "\\item 2\n",
       "\\item 4\n",
       "\\item 5\n",
       "\\item 5\n",
       "\\item 7\n",
       "\\item 8\n",
       "\\item 11\n",
       "\\item 12\n",
       "\\item 12\n",
       "\\item 16\n",
       "\\item 19\n",
       "\\item 21\n",
       "\\item 22\n",
       "\\item 27\n",
       "\\item 32\n",
       "\\item 36\n",
       "\\item 38\n",
       "\\item 53\n",
       "\\item 63\n",
       "\\item 65\n",
       "\\item 67\n",
       "\\item 84\n",
       "\\item 93\n",
       "\\item 93\n",
       "\\item 97\n",
       "\\item 97\n",
       "\\item 99\n",
       "\\item 111\n",
       "\\item 116\n",
       "\\item 118\n",
       "\\item 120\n",
       "\\item 135\n",
       "\\item 142\n",
       "\\item 207\n",
       "\\item 219\n",
       "\\item 232\n",
       "\\item 246\n",
       "\\item 250\n",
       "\\item 286\n",
       "\\item 293\n",
       "\\item 310\n",
       "\\item 321\n",
       "\\item 351\n",
       "\\item 364\n",
       "\\item 376\n",
       "\\item 413\n",
       "\\item 457\n",
       "\\item 517\n",
       "\\item 669\n",
       "\\item 805\n",
       "\\item 1257\n",
       "\\end{enumerate*}\n"
      ],
      "text/markdown": [
       "1. 2\n",
       "2. 4\n",
       "3. 5\n",
       "4. 5\n",
       "5. 7\n",
       "6. 8\n",
       "7. 11\n",
       "8. 12\n",
       "9. 12\n",
       "10. 16\n",
       "11. 19\n",
       "12. 21\n",
       "13. 22\n",
       "14. 27\n",
       "15. 32\n",
       "16. 36\n",
       "17. 38\n",
       "18. 53\n",
       "19. 63\n",
       "20. 65\n",
       "21. 67\n",
       "22. 84\n",
       "23. 93\n",
       "24. 93\n",
       "25. 97\n",
       "26. 97\n",
       "27. 99\n",
       "28. 111\n",
       "29. 116\n",
       "30. 118\n",
       "31. 120\n",
       "32. 135\n",
       "33. 142\n",
       "34. 207\n",
       "35. 219\n",
       "36. 232\n",
       "37. 246\n",
       "38. 250\n",
       "39. 286\n",
       "40. 293\n",
       "41. 310\n",
       "42. 321\n",
       "43. 351\n",
       "44. 364\n",
       "45. 376\n",
       "46. 413\n",
       "47. 457\n",
       "48. 517\n",
       "49. 669\n",
       "50. 805\n",
       "51. 1257\n",
       "\n",
       "\n"
      ],
      "text/plain": [
       " [1]    2    4    5    5    7    8   11   12   12   16   19   21   22   27   32\n",
       "[16]   36   38   53   63   65   67   84   93   93   97   97   99  111  116  118\n",
       "[31]  120  135  142  207  219  232  246  250  286  293  310  321  351  364  376\n",
       "[46]  413  457  517  669  805 1257"
      ]
     },
     "metadata": {},
     "output_type": "display_data"
    }
   ],
   "source": [
    "index <- order(murders$total)\n",
    "murders$total[index] "
   ]
  },
  {
   "cell_type": "markdown",
   "metadata": {},
   "source": [
    "This will arrange the column based on the index variable that we sorted above"
   ]
  },
  {
   "cell_type": "code",
   "execution_count": 29,
   "metadata": {},
   "outputs": [
    {
     "data": {
      "text/html": [
       "<ol class=list-inline>\n",
       "\t<li>'VT'</li>\n",
       "\t<li>'ND'</li>\n",
       "\t<li>'NH'</li>\n",
       "\t<li>'WY'</li>\n",
       "\t<li>'HI'</li>\n",
       "\t<li>'SD'</li>\n",
       "\t<li>'ME'</li>\n",
       "\t<li>'ID'</li>\n",
       "\t<li>'MT'</li>\n",
       "\t<li>'RI'</li>\n",
       "\t<li>'AK'</li>\n",
       "\t<li>'IA'</li>\n",
       "\t<li>'UT'</li>\n",
       "\t<li>'WV'</li>\n",
       "\t<li>'NE'</li>\n",
       "\t<li>'OR'</li>\n",
       "\t<li>'DE'</li>\n",
       "\t<li>'MN'</li>\n",
       "\t<li>'KS'</li>\n",
       "\t<li>'CO'</li>\n",
       "\t<li>'NM'</li>\n",
       "\t<li>'NV'</li>\n",
       "\t<li>'AR'</li>\n",
       "\t<li>'WA'</li>\n",
       "\t<li>'CT'</li>\n",
       "\t<li>'WI'</li>\n",
       "\t<li>'DC'</li>\n",
       "\t<li>'OK'</li>\n",
       "\t<li>'KY'</li>\n",
       "\t<li>'MA'</li>\n",
       "\t<li>'MS'</li>\n",
       "\t<li>'AL'</li>\n",
       "\t<li>'IN'</li>\n",
       "\t<li>'SC'</li>\n",
       "\t<li>'TN'</li>\n",
       "\t<li>'AZ'</li>\n",
       "\t<li>'NJ'</li>\n",
       "\t<li>'VA'</li>\n",
       "\t<li>'NC'</li>\n",
       "\t<li>'MD'</li>\n",
       "\t<li>'OH'</li>\n",
       "\t<li>'MO'</li>\n",
       "\t<li>'LA'</li>\n",
       "\t<li>'IL'</li>\n",
       "\t<li>'GA'</li>\n",
       "\t<li>'MI'</li>\n",
       "\t<li>'PA'</li>\n",
       "\t<li>'NY'</li>\n",
       "\t<li>'FL'</li>\n",
       "\t<li>'TX'</li>\n",
       "\t<li>'CA'</li>\n",
       "</ol>\n"
      ],
      "text/latex": [
       "\\begin{enumerate*}\n",
       "\\item 'VT'\n",
       "\\item 'ND'\n",
       "\\item 'NH'\n",
       "\\item 'WY'\n",
       "\\item 'HI'\n",
       "\\item 'SD'\n",
       "\\item 'ME'\n",
       "\\item 'ID'\n",
       "\\item 'MT'\n",
       "\\item 'RI'\n",
       "\\item 'AK'\n",
       "\\item 'IA'\n",
       "\\item 'UT'\n",
       "\\item 'WV'\n",
       "\\item 'NE'\n",
       "\\item 'OR'\n",
       "\\item 'DE'\n",
       "\\item 'MN'\n",
       "\\item 'KS'\n",
       "\\item 'CO'\n",
       "\\item 'NM'\n",
       "\\item 'NV'\n",
       "\\item 'AR'\n",
       "\\item 'WA'\n",
       "\\item 'CT'\n",
       "\\item 'WI'\n",
       "\\item 'DC'\n",
       "\\item 'OK'\n",
       "\\item 'KY'\n",
       "\\item 'MA'\n",
       "\\item 'MS'\n",
       "\\item 'AL'\n",
       "\\item 'IN'\n",
       "\\item 'SC'\n",
       "\\item 'TN'\n",
       "\\item 'AZ'\n",
       "\\item 'NJ'\n",
       "\\item 'VA'\n",
       "\\item 'NC'\n",
       "\\item 'MD'\n",
       "\\item 'OH'\n",
       "\\item 'MO'\n",
       "\\item 'LA'\n",
       "\\item 'IL'\n",
       "\\item 'GA'\n",
       "\\item 'MI'\n",
       "\\item 'PA'\n",
       "\\item 'NY'\n",
       "\\item 'FL'\n",
       "\\item 'TX'\n",
       "\\item 'CA'\n",
       "\\end{enumerate*}\n"
      ],
      "text/markdown": [
       "1. 'VT'\n",
       "2. 'ND'\n",
       "3. 'NH'\n",
       "4. 'WY'\n",
       "5. 'HI'\n",
       "6. 'SD'\n",
       "7. 'ME'\n",
       "8. 'ID'\n",
       "9. 'MT'\n",
       "10. 'RI'\n",
       "11. 'AK'\n",
       "12. 'IA'\n",
       "13. 'UT'\n",
       "14. 'WV'\n",
       "15. 'NE'\n",
       "16. 'OR'\n",
       "17. 'DE'\n",
       "18. 'MN'\n",
       "19. 'KS'\n",
       "20. 'CO'\n",
       "21. 'NM'\n",
       "22. 'NV'\n",
       "23. 'AR'\n",
       "24. 'WA'\n",
       "25. 'CT'\n",
       "26. 'WI'\n",
       "27. 'DC'\n",
       "28. 'OK'\n",
       "29. 'KY'\n",
       "30. 'MA'\n",
       "31. 'MS'\n",
       "32. 'AL'\n",
       "33. 'IN'\n",
       "34. 'SC'\n",
       "35. 'TN'\n",
       "36. 'AZ'\n",
       "37. 'NJ'\n",
       "38. 'VA'\n",
       "39. 'NC'\n",
       "40. 'MD'\n",
       "41. 'OH'\n",
       "42. 'MO'\n",
       "43. 'LA'\n",
       "44. 'IL'\n",
       "45. 'GA'\n",
       "46. 'MI'\n",
       "47. 'PA'\n",
       "48. 'NY'\n",
       "49. 'FL'\n",
       "50. 'TX'\n",
       "51. 'CA'\n",
       "\n",
       "\n"
      ],
      "text/plain": [
       " [1] \"VT\" \"ND\" \"NH\" \"WY\" \"HI\" \"SD\" \"ME\" \"ID\" \"MT\" \"RI\" \"AK\" \"IA\" \"UT\" \"WV\" \"NE\"\n",
       "[16] \"OR\" \"DE\" \"MN\" \"KS\" \"CO\" \"NM\" \"NV\" \"AR\" \"WA\" \"CT\" \"WI\" \"DC\" \"OK\" \"KY\" \"MA\"\n",
       "[31] \"MS\" \"AL\" \"IN\" \"SC\" \"TN\" \"AZ\" \"NJ\" \"VA\" \"NC\" \"MD\" \"OH\" \"MO\" \"LA\" \"IL\" \"GA\"\n",
       "[46] \"MI\" \"PA\" \"NY\" \"FL\" \"TX\" \"CA\""
      ]
     },
     "metadata": {},
     "output_type": "display_data"
    }
   ],
   "source": [
    "murders$abb[index]"
   ]
  },
  {
   "cell_type": "markdown",
   "metadata": {},
   "source": [
    "This returns the maximum value in the column `total`."
   ]
  },
  {
   "cell_type": "code",
   "execution_count": 30,
   "metadata": {},
   "outputs": [
    {
     "data": {
      "text/html": [
       "1257"
      ],
      "text/latex": [
       "1257"
      ],
      "text/markdown": [
       "1257"
      ],
      "text/plain": [
       "[1] 1257"
      ]
     },
     "metadata": {},
     "output_type": "display_data"
    }
   ],
   "source": [
    "max(murders$total)"
   ]
  },
  {
   "cell_type": "markdown",
   "metadata": {},
   "source": [
    "Which index is the maximum in the `murders$total`"
   ]
  },
  {
   "cell_type": "code",
   "execution_count": 31,
   "metadata": {},
   "outputs": [
    {
     "data": {
      "text/html": [
       "5"
      ],
      "text/latex": [
       "5"
      ],
      "text/markdown": [
       "5"
      ],
      "text/plain": [
       "[1] 5"
      ]
     },
     "metadata": {},
     "output_type": "display_data"
    }
   ],
   "source": [
    "which.max(murders$total) "
   ]
  },
  {
   "cell_type": "markdown",
   "metadata": {},
   "source": [
    "If you save the inddex in which the maximum index is returned, you can use it to identify other things like what is on other columns"
   ]
  },
  {
   "cell_type": "code",
   "execution_count": 32,
   "metadata": {},
   "outputs": [],
   "source": [
    "i_max <- which.max(murders$total)"
   ]
  },
  {
   "cell_type": "code",
   "execution_count": 33,
   "metadata": {},
   "outputs": [
    {
     "data": {
      "text/html": [
       "'California'"
      ],
      "text/latex": [
       "'California'"
      ],
      "text/markdown": [
       "'California'"
      ],
      "text/plain": [
       "[1] \"California\""
      ]
     },
     "metadata": {},
     "output_type": "display_data"
    }
   ],
   "source": [
    "murders$state[i_max]"
   ]
  },
  {
   "cell_type": "markdown",
   "metadata": {},
   "source": [
    "Ranking or the `rank` function saves the index of a value in which how it ranks in relative to its column."
   ]
  },
  {
   "cell_type": "code",
   "execution_count": 34,
   "metadata": {},
   "outputs": [
    {
     "data": {
      "text/html": [
       "<ol class=list-inline>\n",
       "\t<li>32</li>\n",
       "\t<li>11</li>\n",
       "\t<li>36</li>\n",
       "\t<li>23.5</li>\n",
       "\t<li>51</li>\n",
       "\t<li>20</li>\n",
       "\t<li>25.5</li>\n",
       "\t<li>17</li>\n",
       "\t<li>27</li>\n",
       "\t<li>49</li>\n",
       "\t<li>45</li>\n",
       "\t<li>5</li>\n",
       "\t<li>8.5</li>\n",
       "\t<li>44</li>\n",
       "\t<li>33</li>\n",
       "\t<li>12</li>\n",
       "\t<li>19</li>\n",
       "\t<li>29</li>\n",
       "\t<li>43</li>\n",
       "\t<li>7</li>\n",
       "\t<li>40</li>\n",
       "\t<li>30</li>\n",
       "\t<li>46</li>\n",
       "\t<li>18</li>\n",
       "\t<li>31</li>\n",
       "\t<li>42</li>\n",
       "\t<li>8.5</li>\n",
       "\t<li>15</li>\n",
       "\t<li>22</li>\n",
       "\t<li>3.5</li>\n",
       "\t<li>37</li>\n",
       "\t<li>21</li>\n",
       "\t<li>48</li>\n",
       "\t<li>39</li>\n",
       "\t<li>2</li>\n",
       "\t<li>41</li>\n",
       "\t<li>28</li>\n",
       "\t<li>16</li>\n",
       "\t<li>47</li>\n",
       "\t<li>10</li>\n",
       "\t<li>34</li>\n",
       "\t<li>6</li>\n",
       "\t<li>35</li>\n",
       "\t<li>50</li>\n",
       "\t<li>13</li>\n",
       "\t<li>1</li>\n",
       "\t<li>38</li>\n",
       "\t<li>23.5</li>\n",
       "\t<li>14</li>\n",
       "\t<li>25.5</li>\n",
       "\t<li>3.5</li>\n",
       "</ol>\n"
      ],
      "text/latex": [
       "\\begin{enumerate*}\n",
       "\\item 32\n",
       "\\item 11\n",
       "\\item 36\n",
       "\\item 23.5\n",
       "\\item 51\n",
       "\\item 20\n",
       "\\item 25.5\n",
       "\\item 17\n",
       "\\item 27\n",
       "\\item 49\n",
       "\\item 45\n",
       "\\item 5\n",
       "\\item 8.5\n",
       "\\item 44\n",
       "\\item 33\n",
       "\\item 12\n",
       "\\item 19\n",
       "\\item 29\n",
       "\\item 43\n",
       "\\item 7\n",
       "\\item 40\n",
       "\\item 30\n",
       "\\item 46\n",
       "\\item 18\n",
       "\\item 31\n",
       "\\item 42\n",
       "\\item 8.5\n",
       "\\item 15\n",
       "\\item 22\n",
       "\\item 3.5\n",
       "\\item 37\n",
       "\\item 21\n",
       "\\item 48\n",
       "\\item 39\n",
       "\\item 2\n",
       "\\item 41\n",
       "\\item 28\n",
       "\\item 16\n",
       "\\item 47\n",
       "\\item 10\n",
       "\\item 34\n",
       "\\item 6\n",
       "\\item 35\n",
       "\\item 50\n",
       "\\item 13\n",
       "\\item 1\n",
       "\\item 38\n",
       "\\item 23.5\n",
       "\\item 14\n",
       "\\item 25.5\n",
       "\\item 3.5\n",
       "\\end{enumerate*}\n"
      ],
      "text/markdown": [
       "1. 32\n",
       "2. 11\n",
       "3. 36\n",
       "4. 23.5\n",
       "5. 51\n",
       "6. 20\n",
       "7. 25.5\n",
       "8. 17\n",
       "9. 27\n",
       "10. 49\n",
       "11. 45\n",
       "12. 5\n",
       "13. 8.5\n",
       "14. 44\n",
       "15. 33\n",
       "16. 12\n",
       "17. 19\n",
       "18. 29\n",
       "19. 43\n",
       "20. 7\n",
       "21. 40\n",
       "22. 30\n",
       "23. 46\n",
       "24. 18\n",
       "25. 31\n",
       "26. 42\n",
       "27. 8.5\n",
       "28. 15\n",
       "29. 22\n",
       "30. 3.5\n",
       "31. 37\n",
       "32. 21\n",
       "33. 48\n",
       "34. 39\n",
       "35. 2\n",
       "36. 41\n",
       "37. 28\n",
       "38. 16\n",
       "39. 47\n",
       "40. 10\n",
       "41. 34\n",
       "42. 6\n",
       "43. 35\n",
       "44. 50\n",
       "45. 13\n",
       "46. 1\n",
       "47. 38\n",
       "48. 23.5\n",
       "49. 14\n",
       "50. 25.5\n",
       "51. 3.5\n",
       "\n",
       "\n"
      ],
      "text/plain": [
       " [1] 32.0 11.0 36.0 23.5 51.0 20.0 25.5 17.0 27.0 49.0 45.0  5.0  8.5 44.0 33.0\n",
       "[16] 12.0 19.0 29.0 43.0  7.0 40.0 30.0 46.0 18.0 31.0 42.0  8.5 15.0 22.0  3.5\n",
       "[31] 37.0 21.0 48.0 39.0  2.0 41.0 28.0 16.0 47.0 10.0 34.0  6.0 35.0 50.0 13.0\n",
       "[46]  1.0 38.0 23.5 14.0 25.5  3.5"
      ]
     },
     "metadata": {},
     "output_type": "display_data"
    }
   ],
   "source": [
    "rank(murders[[\"total\"]])"
   ]
  },
  {
   "cell_type": "markdown",
   "metadata": {},
   "source": [
    "You can also perform calculations on whole columns like this."
   ]
  },
  {
   "cell_type": "code",
   "execution_count": 35,
   "metadata": {},
   "outputs": [
    {
     "data": {
      "text/html": [
       "<ol class=list-inline>\n",
       "\t<li>2.82442377570644</li>\n",
       "\t<li>2.67518596062408</li>\n",
       "\t<li>3.62952726815339</li>\n",
       "\t<li>3.18939009944724</li>\n",
       "\t<li>3.37413830627813</li>\n",
       "\t<li>1.29245310781286</li>\n",
       "\t<li>2.71397222850975</li>\n",
       "\t<li>4.23193686841126</li>\n",
       "\t<li>16.4527531771264</li>\n",
       "\t<li>3.39806883024604</li>\n",
       "\t<li>3.79032258064516</li>\n",
       "\t<li>0.514591991037278</li>\n",
       "\t<li>0.76551019340615</li>\n",
       "\t<li>2.83696079818983</li>\n",
       "\t<li>2.19007304664763</li>\n",
       "\t<li>0.689348418027446</li>\n",
       "\t<li>2.20811056535341</li>\n",
       "\t<li>2.67320095304223</li>\n",
       "\t<li>7.7425810191619</li>\n",
       "\t<li>0.828088147724903</li>\n",
       "\t<li>5.07486552472378</li>\n",
       "\t<li>1.80217907886962</li>\n",
       "\t<li>4.17862245083795</li>\n",
       "\t<li>0.999259981994466</li>\n",
       "\t<li>4.04408456585236</li>\n",
       "\t<li>5.35989168009562</li>\n",
       "\t<li>1.21283788905565</li>\n",
       "\t<li>1.75213719672285</li>\n",
       "\t<li>3.11047634353138</li>\n",
       "\t<li>0.379803565595874</li>\n",
       "\t<li>2.79803191439751</li>\n",
       "\t<li>3.25372393560735</li>\n",
       "\t<li>2.66795994778023</li>\n",
       "\t<li>2.9993236839707</li>\n",
       "\t<li>0.594715064578622</li>\n",
       "\t<li>2.68712254596366</li>\n",
       "\t<li>2.95893399471284</li>\n",
       "\t<li>0.939684276524024</li>\n",
       "\t<li>3.59775125588679</li>\n",
       "\t<li>1.52009325772136</li>\n",
       "\t<li>4.47532345562425</li>\n",
       "\t<li>0.982583703849272</li>\n",
       "\t<li>3.45093565265624</li>\n",
       "\t<li>3.20136027189849</li>\n",
       "\t<li>0.795981019470781</li>\n",
       "\t<li>0.319621057274495</li>\n",
       "\t<li>3.12460005119345</li>\n",
       "\t<li>1.38299422711442</li>\n",
       "\t<li>1.45710131819099</li>\n",
       "\t<li>1.70564865114843</li>\n",
       "\t<li>0.887113085627704</li>\n",
       "</ol>\n"
      ],
      "text/latex": [
       "\\begin{enumerate*}\n",
       "\\item 2.82442377570644\n",
       "\\item 2.67518596062408\n",
       "\\item 3.62952726815339\n",
       "\\item 3.18939009944724\n",
       "\\item 3.37413830627813\n",
       "\\item 1.29245310781286\n",
       "\\item 2.71397222850975\n",
       "\\item 4.23193686841126\n",
       "\\item 16.4527531771264\n",
       "\\item 3.39806883024604\n",
       "\\item 3.79032258064516\n",
       "\\item 0.514591991037278\n",
       "\\item 0.76551019340615\n",
       "\\item 2.83696079818983\n",
       "\\item 2.19007304664763\n",
       "\\item 0.689348418027446\n",
       "\\item 2.20811056535341\n",
       "\\item 2.67320095304223\n",
       "\\item 7.7425810191619\n",
       "\\item 0.828088147724903\n",
       "\\item 5.07486552472378\n",
       "\\item 1.80217907886962\n",
       "\\item 4.17862245083795\n",
       "\\item 0.999259981994466\n",
       "\\item 4.04408456585236\n",
       "\\item 5.35989168009562\n",
       "\\item 1.21283788905565\n",
       "\\item 1.75213719672285\n",
       "\\item 3.11047634353138\n",
       "\\item 0.379803565595874\n",
       "\\item 2.79803191439751\n",
       "\\item 3.25372393560735\n",
       "\\item 2.66795994778023\n",
       "\\item 2.9993236839707\n",
       "\\item 0.594715064578622\n",
       "\\item 2.68712254596366\n",
       "\\item 2.95893399471284\n",
       "\\item 0.939684276524024\n",
       "\\item 3.59775125588679\n",
       "\\item 1.52009325772136\n",
       "\\item 4.47532345562425\n",
       "\\item 0.982583703849272\n",
       "\\item 3.45093565265624\n",
       "\\item 3.20136027189849\n",
       "\\item 0.795981019470781\n",
       "\\item 0.319621057274495\n",
       "\\item 3.12460005119345\n",
       "\\item 1.38299422711442\n",
       "\\item 1.45710131819099\n",
       "\\item 1.70564865114843\n",
       "\\item 0.887113085627704\n",
       "\\end{enumerate*}\n"
      ],
      "text/markdown": [
       "1. 2.82442377570644\n",
       "2. 2.67518596062408\n",
       "3. 3.62952726815339\n",
       "4. 3.18939009944724\n",
       "5. 3.37413830627813\n",
       "6. 1.29245310781286\n",
       "7. 2.71397222850975\n",
       "8. 4.23193686841126\n",
       "9. 16.4527531771264\n",
       "10. 3.39806883024604\n",
       "11. 3.79032258064516\n",
       "12. 0.514591991037278\n",
       "13. 0.76551019340615\n",
       "14. 2.83696079818983\n",
       "15. 2.19007304664763\n",
       "16. 0.689348418027446\n",
       "17. 2.20811056535341\n",
       "18. 2.67320095304223\n",
       "19. 7.7425810191619\n",
       "20. 0.828088147724903\n",
       "21. 5.07486552472378\n",
       "22. 1.80217907886962\n",
       "23. 4.17862245083795\n",
       "24. 0.999259981994466\n",
       "25. 4.04408456585236\n",
       "26. 5.35989168009562\n",
       "27. 1.21283788905565\n",
       "28. 1.75213719672285\n",
       "29. 3.11047634353138\n",
       "30. 0.379803565595874\n",
       "31. 2.79803191439751\n",
       "32. 3.25372393560735\n",
       "33. 2.66795994778023\n",
       "34. 2.9993236839707\n",
       "35. 0.594715064578622\n",
       "36. 2.68712254596366\n",
       "37. 2.95893399471284\n",
       "38. 0.939684276524024\n",
       "39. 3.59775125588679\n",
       "40. 1.52009325772136\n",
       "41. 4.47532345562425\n",
       "42. 0.982583703849272\n",
       "43. 3.45093565265624\n",
       "44. 3.20136027189849\n",
       "45. 0.795981019470781\n",
       "46. 0.319621057274495\n",
       "47. 3.12460005119345\n",
       "48. 1.38299422711442\n",
       "49. 1.45710131819099\n",
       "50. 1.70564865114843\n",
       "51. 0.887113085627704\n",
       "\n",
       "\n"
      ],
      "text/plain": [
       " [1]  2.8244238  2.6751860  3.6295273  3.1893901  3.3741383  1.2924531\n",
       " [7]  2.7139722  4.2319369 16.4527532  3.3980688  3.7903226  0.5145920\n",
       "[13]  0.7655102  2.8369608  2.1900730  0.6893484  2.2081106  2.6732010\n",
       "[19]  7.7425810  0.8280881  5.0748655  1.8021791  4.1786225  0.9992600\n",
       "[25]  4.0440846  5.3598917  1.2128379  1.7521372  3.1104763  0.3798036\n",
       "[31]  2.7980319  3.2537239  2.6679599  2.9993237  0.5947151  2.6871225\n",
       "[37]  2.9589340  0.9396843  3.5977513  1.5200933  4.4753235  0.9825837\n",
       "[43]  3.4509357  3.2013603  0.7959810  0.3196211  3.1246001  1.3829942\n",
       "[49]  1.4571013  1.7056487  0.8871131"
      ]
     },
     "metadata": {},
     "output_type": "display_data"
    }
   ],
   "source": [
    "murder_rate <- murders$total/murders$population*100000\n",
    "murder_rate"
   ]
  },
  {
   "cell_type": "markdown",
   "metadata": {},
   "source": [
    "We first find the highest value of murder rates."
   ]
  },
  {
   "cell_type": "code",
   "execution_count": 36,
   "metadata": {},
   "outputs": [
    {
     "data": {
      "text/html": [
       "16.4527531771264"
      ],
      "text/latex": [
       "16.4527531771264"
      ],
      "text/markdown": [
       "16.4527531771264"
      ],
      "text/plain": [
       "[1] 16.45275"
      ]
     },
     "metadata": {},
     "output_type": "display_data"
    }
   ],
   "source": [
    "max(murder_rate)"
   ]
  },
  {
   "cell_type": "markdown",
   "metadata": {},
   "source": [
    "Then we find which index does the value lie, and save the index value to a variable."
   ]
  },
  {
   "cell_type": "code",
   "execution_count": 37,
   "metadata": {},
   "outputs": [
    {
     "data": {
      "text/html": [
       "9"
      ],
      "text/latex": [
       "9"
      ],
      "text/markdown": [
       "9"
      ],
      "text/plain": [
       "[1] 9"
      ]
     },
     "metadata": {},
     "output_type": "display_data"
    }
   ],
   "source": [
    "which.max(murder_rate)"
   ]
  },
  {
   "cell_type": "code",
   "execution_count": 38,
   "metadata": {},
   "outputs": [],
   "source": [
    "highest_murder_rate <- which.max(murder_rate)"
   ]
  },
  {
   "cell_type": "markdown",
   "metadata": {},
   "source": [
    "Then we find the state which has this index."
   ]
  },
  {
   "cell_type": "code",
   "execution_count": 39,
   "metadata": {},
   "outputs": [
    {
     "data": {
      "text/html": [
       "'District of Columbia'"
      ],
      "text/latex": [
       "'District of Columbia'"
      ],
      "text/markdown": [
       "'District of Columbia'"
      ],
      "text/plain": [
       "[1] \"District of Columbia\""
      ]
     },
     "metadata": {},
     "output_type": "display_data"
    }
   ],
   "source": [
    "murders$state[highest_murder_rate]"
   ]
  },
  {
   "cell_type": "markdown",
   "metadata": {},
   "source": [
    "We can also use the `order` function by using the murder rate as a parameter or argument and then using another argument which orders the list to be in decreasing order. `decreasing = TRUE`"
   ]
  },
  {
   "cell_type": "code",
   "execution_count": 40,
   "metadata": {},
   "outputs": [
    {
     "data": {
      "text/html": [
       "<ol class=list-inline>\n",
       "\t<li>'District of Columbia'</li>\n",
       "\t<li>'Louisiana'</li>\n",
       "\t<li>'Missouri'</li>\n",
       "\t<li>'Maryland'</li>\n",
       "\t<li>'South Carolina'</li>\n",
       "\t<li>'Delaware'</li>\n",
       "\t<li>'Michigan'</li>\n",
       "\t<li>'Mississippi'</li>\n",
       "\t<li>'Georgia'</li>\n",
       "\t<li>'Arizona'</li>\n",
       "\t<li>'Pennsylvania'</li>\n",
       "\t<li>'Tennessee'</li>\n",
       "\t<li>'Florida'</li>\n",
       "\t<li>'California'</li>\n",
       "\t<li>'New Mexico'</li>\n",
       "\t<li>'Texas'</li>\n",
       "\t<li>'Arkansas'</li>\n",
       "\t<li>'Virginia'</li>\n",
       "\t<li>'Nevada'</li>\n",
       "\t<li>'North Carolina'</li>\n",
       "\t<li>'Oklahoma'</li>\n",
       "\t<li>'Illinois'</li>\n",
       "\t<li>'Alabama'</li>\n",
       "\t<li>'New Jersey'</li>\n",
       "\t<li>'Connecticut'</li>\n",
       "\t<li>'Ohio'</li>\n",
       "\t<li>'Alaska'</li>\n",
       "\t<li>'Kentucky'</li>\n",
       "\t<li>'New York'</li>\n",
       "\t<li>'Kansas'</li>\n",
       "\t<li>'Indiana'</li>\n",
       "\t<li>'Massachusetts'</li>\n",
       "\t<li>'Nebraska'</li>\n",
       "\t<li>'Wisconsin'</li>\n",
       "\t<li>'Rhode Island'</li>\n",
       "\t<li>'West Virginia'</li>\n",
       "\t<li>'Washington'</li>\n",
       "\t<li>'Colorado'</li>\n",
       "\t<li>'Montana'</li>\n",
       "\t<li>'Minnesota'</li>\n",
       "\t<li>'South Dakota'</li>\n",
       "\t<li>'Oregon'</li>\n",
       "\t<li>'Wyoming'</li>\n",
       "\t<li>'Maine'</li>\n",
       "\t<li>'Utah'</li>\n",
       "\t<li>'Idaho'</li>\n",
       "\t<li>'Iowa'</li>\n",
       "\t<li>'North Dakota'</li>\n",
       "\t<li>'Hawaii'</li>\n",
       "\t<li>'New Hampshire'</li>\n",
       "\t<li>'Vermont'</li>\n",
       "</ol>\n"
      ],
      "text/latex": [
       "\\begin{enumerate*}\n",
       "\\item 'District of Columbia'\n",
       "\\item 'Louisiana'\n",
       "\\item 'Missouri'\n",
       "\\item 'Maryland'\n",
       "\\item 'South Carolina'\n",
       "\\item 'Delaware'\n",
       "\\item 'Michigan'\n",
       "\\item 'Mississippi'\n",
       "\\item 'Georgia'\n",
       "\\item 'Arizona'\n",
       "\\item 'Pennsylvania'\n",
       "\\item 'Tennessee'\n",
       "\\item 'Florida'\n",
       "\\item 'California'\n",
       "\\item 'New Mexico'\n",
       "\\item 'Texas'\n",
       "\\item 'Arkansas'\n",
       "\\item 'Virginia'\n",
       "\\item 'Nevada'\n",
       "\\item 'North Carolina'\n",
       "\\item 'Oklahoma'\n",
       "\\item 'Illinois'\n",
       "\\item 'Alabama'\n",
       "\\item 'New Jersey'\n",
       "\\item 'Connecticut'\n",
       "\\item 'Ohio'\n",
       "\\item 'Alaska'\n",
       "\\item 'Kentucky'\n",
       "\\item 'New York'\n",
       "\\item 'Kansas'\n",
       "\\item 'Indiana'\n",
       "\\item 'Massachusetts'\n",
       "\\item 'Nebraska'\n",
       "\\item 'Wisconsin'\n",
       "\\item 'Rhode Island'\n",
       "\\item 'West Virginia'\n",
       "\\item 'Washington'\n",
       "\\item 'Colorado'\n",
       "\\item 'Montana'\n",
       "\\item 'Minnesota'\n",
       "\\item 'South Dakota'\n",
       "\\item 'Oregon'\n",
       "\\item 'Wyoming'\n",
       "\\item 'Maine'\n",
       "\\item 'Utah'\n",
       "\\item 'Idaho'\n",
       "\\item 'Iowa'\n",
       "\\item 'North Dakota'\n",
       "\\item 'Hawaii'\n",
       "\\item 'New Hampshire'\n",
       "\\item 'Vermont'\n",
       "\\end{enumerate*}\n"
      ],
      "text/markdown": [
       "1. 'District of Columbia'\n",
       "2. 'Louisiana'\n",
       "3. 'Missouri'\n",
       "4. 'Maryland'\n",
       "5. 'South Carolina'\n",
       "6. 'Delaware'\n",
       "7. 'Michigan'\n",
       "8. 'Mississippi'\n",
       "9. 'Georgia'\n",
       "10. 'Arizona'\n",
       "11. 'Pennsylvania'\n",
       "12. 'Tennessee'\n",
       "13. 'Florida'\n",
       "14. 'California'\n",
       "15. 'New Mexico'\n",
       "16. 'Texas'\n",
       "17. 'Arkansas'\n",
       "18. 'Virginia'\n",
       "19. 'Nevada'\n",
       "20. 'North Carolina'\n",
       "21. 'Oklahoma'\n",
       "22. 'Illinois'\n",
       "23. 'Alabama'\n",
       "24. 'New Jersey'\n",
       "25. 'Connecticut'\n",
       "26. 'Ohio'\n",
       "27. 'Alaska'\n",
       "28. 'Kentucky'\n",
       "29. 'New York'\n",
       "30. 'Kansas'\n",
       "31. 'Indiana'\n",
       "32. 'Massachusetts'\n",
       "33. 'Nebraska'\n",
       "34. 'Wisconsin'\n",
       "35. 'Rhode Island'\n",
       "36. 'West Virginia'\n",
       "37. 'Washington'\n",
       "38. 'Colorado'\n",
       "39. 'Montana'\n",
       "40. 'Minnesota'\n",
       "41. 'South Dakota'\n",
       "42. 'Oregon'\n",
       "43. 'Wyoming'\n",
       "44. 'Maine'\n",
       "45. 'Utah'\n",
       "46. 'Idaho'\n",
       "47. 'Iowa'\n",
       "48. 'North Dakota'\n",
       "49. 'Hawaii'\n",
       "50. 'New Hampshire'\n",
       "51. 'Vermont'\n",
       "\n",
       "\n"
      ],
      "text/plain": [
       " [1] \"District of Columbia\" \"Louisiana\"            \"Missouri\"            \n",
       " [4] \"Maryland\"             \"South Carolina\"       \"Delaware\"            \n",
       " [7] \"Michigan\"             \"Mississippi\"          \"Georgia\"             \n",
       "[10] \"Arizona\"              \"Pennsylvania\"         \"Tennessee\"           \n",
       "[13] \"Florida\"              \"California\"           \"New Mexico\"          \n",
       "[16] \"Texas\"                \"Arkansas\"             \"Virginia\"            \n",
       "[19] \"Nevada\"               \"North Carolina\"       \"Oklahoma\"            \n",
       "[22] \"Illinois\"             \"Alabama\"              \"New Jersey\"          \n",
       "[25] \"Connecticut\"          \"Ohio\"                 \"Alaska\"              \n",
       "[28] \"Kentucky\"             \"New York\"             \"Kansas\"              \n",
       "[31] \"Indiana\"              \"Massachusetts\"        \"Nebraska\"            \n",
       "[34] \"Wisconsin\"            \"Rhode Island\"         \"West Virginia\"       \n",
       "[37] \"Washington\"           \"Colorado\"             \"Montana\"             \n",
       "[40] \"Minnesota\"            \"South Dakota\"         \"Oregon\"              \n",
       "[43] \"Wyoming\"              \"Maine\"                \"Utah\"                \n",
       "[46] \"Idaho\"                \"Iowa\"                 \"North Dakota\"        \n",
       "[49] \"Hawaii\"               \"New Hampshire\"        \"Vermont\"             "
      ]
     },
     "metadata": {},
     "output_type": "display_data"
    }
   ],
   "source": [
    "murders$state[order(murder_rate, decreasing = TRUE)]"
   ]
  },
  {
   "cell_type": "markdown",
   "metadata": {},
   "source": [
    "We can also perform logical operations in the murder rate and then get all the boolean masks and its indices.\n",
    "Note that `murder_rate` is a new vector that is completely not connected to the `murders` dataframe but it related in terms of indexes and values derived from the earlier formula we applied to this variable."
   ]
  },
  {
   "cell_type": "code",
   "execution_count": 41,
   "metadata": {},
   "outputs": [],
   "source": [
    "index_2 <- murder_rate< 0.71"
   ]
  },
  {
   "cell_type": "code",
   "execution_count": 42,
   "metadata": {},
   "outputs": [
    {
     "data": {
      "text/html": [
       "<ol class=list-inline>\n",
       "\t<li>FALSE</li>\n",
       "\t<li>FALSE</li>\n",
       "\t<li>FALSE</li>\n",
       "\t<li>FALSE</li>\n",
       "\t<li>FALSE</li>\n",
       "\t<li>FALSE</li>\n",
       "\t<li>FALSE</li>\n",
       "\t<li>FALSE</li>\n",
       "\t<li>FALSE</li>\n",
       "\t<li>FALSE</li>\n",
       "\t<li>FALSE</li>\n",
       "\t<li>TRUE</li>\n",
       "\t<li>FALSE</li>\n",
       "\t<li>FALSE</li>\n",
       "\t<li>FALSE</li>\n",
       "\t<li>TRUE</li>\n",
       "\t<li>FALSE</li>\n",
       "\t<li>FALSE</li>\n",
       "\t<li>FALSE</li>\n",
       "\t<li>FALSE</li>\n",
       "\t<li>FALSE</li>\n",
       "\t<li>FALSE</li>\n",
       "\t<li>FALSE</li>\n",
       "\t<li>FALSE</li>\n",
       "\t<li>FALSE</li>\n",
       "\t<li>FALSE</li>\n",
       "\t<li>FALSE</li>\n",
       "\t<li>FALSE</li>\n",
       "\t<li>FALSE</li>\n",
       "\t<li>TRUE</li>\n",
       "\t<li>FALSE</li>\n",
       "\t<li>FALSE</li>\n",
       "\t<li>FALSE</li>\n",
       "\t<li>FALSE</li>\n",
       "\t<li>TRUE</li>\n",
       "\t<li>FALSE</li>\n",
       "\t<li>FALSE</li>\n",
       "\t<li>FALSE</li>\n",
       "\t<li>FALSE</li>\n",
       "\t<li>FALSE</li>\n",
       "\t<li>FALSE</li>\n",
       "\t<li>FALSE</li>\n",
       "\t<li>FALSE</li>\n",
       "\t<li>FALSE</li>\n",
       "\t<li>FALSE</li>\n",
       "\t<li>TRUE</li>\n",
       "\t<li>FALSE</li>\n",
       "\t<li>FALSE</li>\n",
       "\t<li>FALSE</li>\n",
       "\t<li>FALSE</li>\n",
       "\t<li>FALSE</li>\n",
       "</ol>\n"
      ],
      "text/latex": [
       "\\begin{enumerate*}\n",
       "\\item FALSE\n",
       "\\item FALSE\n",
       "\\item FALSE\n",
       "\\item FALSE\n",
       "\\item FALSE\n",
       "\\item FALSE\n",
       "\\item FALSE\n",
       "\\item FALSE\n",
       "\\item FALSE\n",
       "\\item FALSE\n",
       "\\item FALSE\n",
       "\\item TRUE\n",
       "\\item FALSE\n",
       "\\item FALSE\n",
       "\\item FALSE\n",
       "\\item TRUE\n",
       "\\item FALSE\n",
       "\\item FALSE\n",
       "\\item FALSE\n",
       "\\item FALSE\n",
       "\\item FALSE\n",
       "\\item FALSE\n",
       "\\item FALSE\n",
       "\\item FALSE\n",
       "\\item FALSE\n",
       "\\item FALSE\n",
       "\\item FALSE\n",
       "\\item FALSE\n",
       "\\item FALSE\n",
       "\\item TRUE\n",
       "\\item FALSE\n",
       "\\item FALSE\n",
       "\\item FALSE\n",
       "\\item FALSE\n",
       "\\item TRUE\n",
       "\\item FALSE\n",
       "\\item FALSE\n",
       "\\item FALSE\n",
       "\\item FALSE\n",
       "\\item FALSE\n",
       "\\item FALSE\n",
       "\\item FALSE\n",
       "\\item FALSE\n",
       "\\item FALSE\n",
       "\\item FALSE\n",
       "\\item TRUE\n",
       "\\item FALSE\n",
       "\\item FALSE\n",
       "\\item FALSE\n",
       "\\item FALSE\n",
       "\\item FALSE\n",
       "\\end{enumerate*}\n"
      ],
      "text/markdown": [
       "1. FALSE\n",
       "2. FALSE\n",
       "3. FALSE\n",
       "4. FALSE\n",
       "5. FALSE\n",
       "6. FALSE\n",
       "7. FALSE\n",
       "8. FALSE\n",
       "9. FALSE\n",
       "10. FALSE\n",
       "11. FALSE\n",
       "12. TRUE\n",
       "13. FALSE\n",
       "14. FALSE\n",
       "15. FALSE\n",
       "16. TRUE\n",
       "17. FALSE\n",
       "18. FALSE\n",
       "19. FALSE\n",
       "20. FALSE\n",
       "21. FALSE\n",
       "22. FALSE\n",
       "23. FALSE\n",
       "24. FALSE\n",
       "25. FALSE\n",
       "26. FALSE\n",
       "27. FALSE\n",
       "28. FALSE\n",
       "29. FALSE\n",
       "30. TRUE\n",
       "31. FALSE\n",
       "32. FALSE\n",
       "33. FALSE\n",
       "34. FALSE\n",
       "35. TRUE\n",
       "36. FALSE\n",
       "37. FALSE\n",
       "38. FALSE\n",
       "39. FALSE\n",
       "40. FALSE\n",
       "41. FALSE\n",
       "42. FALSE\n",
       "43. FALSE\n",
       "44. FALSE\n",
       "45. FALSE\n",
       "46. TRUE\n",
       "47. FALSE\n",
       "48. FALSE\n",
       "49. FALSE\n",
       "50. FALSE\n",
       "51. FALSE\n",
       "\n",
       "\n"
      ],
      "text/plain": [
       " [1] FALSE FALSE FALSE FALSE FALSE FALSE FALSE FALSE FALSE FALSE FALSE  TRUE\n",
       "[13] FALSE FALSE FALSE  TRUE FALSE FALSE FALSE FALSE FALSE FALSE FALSE FALSE\n",
       "[25] FALSE FALSE FALSE FALSE FALSE  TRUE FALSE FALSE FALSE FALSE  TRUE FALSE\n",
       "[37] FALSE FALSE FALSE FALSE FALSE FALSE FALSE FALSE FALSE  TRUE FALSE FALSE\n",
       "[49] FALSE FALSE FALSE"
      ]
     },
     "metadata": {},
     "output_type": "display_data"
    }
   ],
   "source": [
    "index_2"
   ]
  },
  {
   "cell_type": "code",
   "execution_count": 43,
   "metadata": {},
   "outputs": [
    {
     "data": {
      "text/html": [
       "<ol class=list-inline>\n",
       "\t<li>'Hawaii'</li>\n",
       "\t<li>'Iowa'</li>\n",
       "\t<li>'New Hampshire'</li>\n",
       "\t<li>'North Dakota'</li>\n",
       "\t<li>'Vermont'</li>\n",
       "</ol>\n"
      ],
      "text/latex": [
       "\\begin{enumerate*}\n",
       "\\item 'Hawaii'\n",
       "\\item 'Iowa'\n",
       "\\item 'New Hampshire'\n",
       "\\item 'North Dakota'\n",
       "\\item 'Vermont'\n",
       "\\end{enumerate*}\n"
      ],
      "text/markdown": [
       "1. 'Hawaii'\n",
       "2. 'Iowa'\n",
       "3. 'New Hampshire'\n",
       "4. 'North Dakota'\n",
       "5. 'Vermont'\n",
       "\n",
       "\n"
      ],
      "text/plain": [
       "[1] \"Hawaii\"        \"Iowa\"          \"New Hampshire\" \"North Dakota\" \n",
       "[5] \"Vermont\"      "
      ]
     },
     "metadata": {},
     "output_type": "display_data"
    }
   ],
   "source": [
    "murders$state[index_2]"
   ]
  },
  {
   "cell_type": "code",
   "execution_count": 44,
   "metadata": {},
   "outputs": [],
   "source": [
    "index_3 <- murder_rate < 0.71 & murder_rate < 1.0"
   ]
  },
  {
   "cell_type": "code",
   "execution_count": 45,
   "metadata": {},
   "outputs": [
    {
     "data": {
      "text/html": [
       "<ol class=list-inline>\n",
       "\t<li>'Hawaii'</li>\n",
       "\t<li>'Iowa'</li>\n",
       "\t<li>'New Hampshire'</li>\n",
       "\t<li>'North Dakota'</li>\n",
       "\t<li>'Vermont'</li>\n",
       "</ol>\n"
      ],
      "text/latex": [
       "\\begin{enumerate*}\n",
       "\\item 'Hawaii'\n",
       "\\item 'Iowa'\n",
       "\\item 'New Hampshire'\n",
       "\\item 'North Dakota'\n",
       "\\item 'Vermont'\n",
       "\\end{enumerate*}\n"
      ],
      "text/markdown": [
       "1. 'Hawaii'\n",
       "2. 'Iowa'\n",
       "3. 'New Hampshire'\n",
       "4. 'North Dakota'\n",
       "5. 'Vermont'\n",
       "\n",
       "\n"
      ],
      "text/plain": [
       "[1] \"Hawaii\"        \"Iowa\"          \"New Hampshire\" \"North Dakota\" \n",
       "[5] \"Vermont\"      "
      ]
     },
     "metadata": {},
     "output_type": "display_data"
    }
   ],
   "source": [
    "murders$state[index_3]"
   ]
  },
  {
   "cell_type": "code",
   "execution_count": 46,
   "metadata": {},
   "outputs": [
    {
     "data": {
      "text/html": [
       "<ol class=list-inline>\n",
       "\t<li>'Hawaii'</li>\n",
       "\t<li>'Idaho'</li>\n",
       "\t<li>'Oregon'</li>\n",
       "\t<li>'Utah'</li>\n",
       "\t<li>'Wyoming'</li>\n",
       "</ol>\n"
      ],
      "text/latex": [
       "\\begin{enumerate*}\n",
       "\\item 'Hawaii'\n",
       "\\item 'Idaho'\n",
       "\\item 'Oregon'\n",
       "\\item 'Utah'\n",
       "\\item 'Wyoming'\n",
       "\\end{enumerate*}\n"
      ],
      "text/markdown": [
       "1. 'Hawaii'\n",
       "2. 'Idaho'\n",
       "3. 'Oregon'\n",
       "4. 'Utah'\n",
       "5. 'Wyoming'\n",
       "\n",
       "\n"
      ],
      "text/plain": [
       "[1] \"Hawaii\"  \"Idaho\"   \"Oregon\"  \"Utah\"    \"Wyoming\""
      ]
     },
     "metadata": {},
     "output_type": "display_data"
    }
   ],
   "source": [
    "west <- murders$region == \"West\"\n",
    "safe <- murder_rate <= 1\n",
    "index_4 <- safe & west\n",
    "murders$state[index_4]"
   ]
  },
  {
   "cell_type": "code",
   "execution_count": 47,
   "metadata": {},
   "outputs": [
    {
     "data": {
      "text/html": [
       "<ol class=list-inline>\n",
       "\t<li>12</li>\n",
       "\t<li>16</li>\n",
       "\t<li>30</li>\n",
       "\t<li>35</li>\n",
       "\t<li>46</li>\n",
       "</ol>\n"
      ],
      "text/latex": [
       "\\begin{enumerate*}\n",
       "\\item 12\n",
       "\\item 16\n",
       "\\item 30\n",
       "\\item 35\n",
       "\\item 46\n",
       "\\end{enumerate*}\n"
      ],
      "text/markdown": [
       "1. 12\n",
       "2. 16\n",
       "3. 30\n",
       "4. 35\n",
       "5. 46\n",
       "\n",
       "\n"
      ],
      "text/plain": [
       "[1] 12 16 30 35 46"
      ]
     },
     "metadata": {},
     "output_type": "display_data"
    }
   ],
   "source": [
    "which(index_2) # only returns indices"
   ]
  },
  {
   "cell_type": "code",
   "execution_count": 48,
   "metadata": {},
   "outputs": [],
   "source": [
    "index_5 <- which(murders$state == \"Massachusetts\")"
   ]
  },
  {
   "cell_type": "code",
   "execution_count": 49,
   "metadata": {},
   "outputs": [
    {
     "data": {
      "text/html": [
       "22"
      ],
      "text/latex": [
       "22"
      ],
      "text/markdown": [
       "22"
      ],
      "text/plain": [
       "[1] 22"
      ]
     },
     "metadata": {},
     "output_type": "display_data"
    }
   ],
   "source": [
    "index_5"
   ]
  },
  {
   "cell_type": "code",
   "execution_count": 50,
   "metadata": {},
   "outputs": [],
   "source": [
    "index_6 <- match(c(\"New York\", \"Florida\", \"Texas\"), murders$state)"
   ]
  },
  {
   "cell_type": "code",
   "execution_count": 51,
   "metadata": {},
   "outputs": [
    {
     "data": {
      "text/html": [
       "<ol class=list-inline>\n",
       "\t<li>33</li>\n",
       "\t<li>10</li>\n",
       "\t<li>44</li>\n",
       "</ol>\n"
      ],
      "text/latex": [
       "\\begin{enumerate*}\n",
       "\\item 33\n",
       "\\item 10\n",
       "\\item 44\n",
       "\\end{enumerate*}\n"
      ],
      "text/markdown": [
       "1. 33\n",
       "2. 10\n",
       "3. 44\n",
       "\n",
       "\n"
      ],
      "text/plain": [
       "[1] 33 10 44"
      ]
     },
     "metadata": {},
     "output_type": "display_data"
    }
   ],
   "source": [
    "index_6"
   ]
  },
  {
   "cell_type": "code",
   "execution_count": 52,
   "metadata": {},
   "outputs": [
    {
     "data": {
      "text/html": [
       "<ol class=list-inline>\n",
       "\t<li>'New York'</li>\n",
       "\t<li>'Florida'</li>\n",
       "\t<li>'Texas'</li>\n",
       "</ol>\n"
      ],
      "text/latex": [
       "\\begin{enumerate*}\n",
       "\\item 'New York'\n",
       "\\item 'Florida'\n",
       "\\item 'Texas'\n",
       "\\end{enumerate*}\n"
      ],
      "text/markdown": [
       "1. 'New York'\n",
       "2. 'Florida'\n",
       "3. 'Texas'\n",
       "\n",
       "\n"
      ],
      "text/plain": [
       "[1] \"New York\" \"Florida\"  \"Texas\"   "
      ]
     },
     "metadata": {},
     "output_type": "display_data"
    }
   ],
   "source": [
    "murders$state[index_6]"
   ]
  },
  {
   "cell_type": "code",
   "execution_count": 53,
   "metadata": {},
   "outputs": [
    {
     "data": {
      "text/html": [
       "<ol class=list-inline>\n",
       "\t<li>FALSE</li>\n",
       "\t<li>FALSE</li>\n",
       "\t<li>TRUE</li>\n",
       "</ol>\n"
      ],
      "text/latex": [
       "\\begin{enumerate*}\n",
       "\\item FALSE\n",
       "\\item FALSE\n",
       "\\item TRUE\n",
       "\\end{enumerate*}\n"
      ],
      "text/markdown": [
       "1. FALSE\n",
       "2. FALSE\n",
       "3. TRUE\n",
       "\n",
       "\n"
      ],
      "text/plain": [
       "[1] FALSE FALSE  TRUE"
      ]
     },
     "metadata": {},
     "output_type": "display_data"
    }
   ],
   "source": [
    "c(\"Boston\",\"Dakota\",\"Washington\") %in% murders$state"
   ]
  },
  {
   "cell_type": "markdown",
   "metadata": {},
   "source": [
    "We will use the `dplyr` library, you can read more about the documentation by doing a simple google search.\n",
    "\n",
    "In the `dplyr` library, there is a function called mutate. Use `help(mutate)` for more, there are a lot more inside the `dplyr` like `help(case_when)` and etc."
   ]
  },
  {
   "cell_type": "code",
   "execution_count": 54,
   "metadata": {},
   "outputs": [
    {
     "name": "stderr",
     "output_type": "stream",
     "text": [
      "\n",
      "Attaching package: 'dplyr'\n",
      "\n",
      "The following objects are masked from 'package:stats':\n",
      "\n",
      "    filter, lag\n",
      "\n",
      "The following objects are masked from 'package:base':\n",
      "\n",
      "    intersect, setdiff, setequal, union\n",
      "\n"
     ]
    }
   ],
   "source": [
    "library(dplyr)\n",
    "murders <- mutate(murders,rate=total/population*100000)"
   ]
  },
  {
   "cell_type": "markdown",
   "metadata": {},
   "source": [
    "You can see that the murders dataframe has now a *rate* column with it."
   ]
  },
  {
   "cell_type": "code",
   "execution_count": 55,
   "metadata": {},
   "outputs": [
    {
     "data": {
      "text/html": [
       "<table>\n",
       "<thead><tr><th scope=col>state</th><th scope=col>abb</th><th scope=col>region</th><th scope=col>population</th><th scope=col>total</th><th scope=col>rate</th></tr></thead>\n",
       "<tbody>\n",
       "\t<tr><td>Alabama   </td><td>AL        </td><td>South     </td><td> 4779736  </td><td> 135      </td><td>2.824424  </td></tr>\n",
       "\t<tr><td>Alaska    </td><td>AK        </td><td>West      </td><td>  710231  </td><td>  19      </td><td>2.675186  </td></tr>\n",
       "\t<tr><td>Arizona   </td><td>AZ        </td><td>West      </td><td> 6392017  </td><td> 232      </td><td>3.629527  </td></tr>\n",
       "\t<tr><td>Arkansas  </td><td>AR        </td><td>South     </td><td> 2915918  </td><td>  93      </td><td>3.189390  </td></tr>\n",
       "\t<tr><td>California</td><td>CA        </td><td>West      </td><td>37253956  </td><td>1257      </td><td>3.374138  </td></tr>\n",
       "\t<tr><td>Colorado  </td><td>CO        </td><td>West      </td><td> 5029196  </td><td>  65      </td><td>1.292453  </td></tr>\n",
       "</tbody>\n",
       "</table>\n"
      ],
      "text/latex": [
       "\\begin{tabular}{r|llllll}\n",
       " state & abb & region & population & total & rate\\\\\n",
       "\\hline\n",
       "\t Alabama    & AL         & South      &  4779736   &  135       & 2.824424  \\\\\n",
       "\t Alaska     & AK         & West       &   710231   &   19       & 2.675186  \\\\\n",
       "\t Arizona    & AZ         & West       &  6392017   &  232       & 3.629527  \\\\\n",
       "\t Arkansas   & AR         & South      &  2915918   &   93       & 3.189390  \\\\\n",
       "\t California & CA         & West       & 37253956   & 1257       & 3.374138  \\\\\n",
       "\t Colorado   & CO         & West       &  5029196   &   65       & 1.292453  \\\\\n",
       "\\end{tabular}\n"
      ],
      "text/markdown": [
       "\n",
       "state | abb | region | population | total | rate | \n",
       "|---|---|---|---|---|---|\n",
       "| Alabama    | AL         | South      |  4779736   |  135       | 2.824424   | \n",
       "| Alaska     | AK         | West       |   710231   |   19       | 2.675186   | \n",
       "| Arizona    | AZ         | West       |  6392017   |  232       | 3.629527   | \n",
       "| Arkansas   | AR         | South      |  2915918   |   93       | 3.189390   | \n",
       "| California | CA         | West       | 37253956   | 1257       | 3.374138   | \n",
       "| Colorado   | CO         | West       |  5029196   |   65       | 1.292453   | \n",
       "\n",
       "\n"
      ],
      "text/plain": [
       "  state      abb region population total rate    \n",
       "1 Alabama    AL  South   4779736    135  2.824424\n",
       "2 Alaska     AK  West     710231     19  2.675186\n",
       "3 Arizona    AZ  West    6392017    232  3.629527\n",
       "4 Arkansas   AR  South   2915918     93  3.189390\n",
       "5 California CA  West   37253956   1257  3.374138\n",
       "6 Colorado   CO  West    5029196     65  1.292453"
      ]
     },
     "metadata": {},
     "output_type": "display_data"
    }
   ],
   "source": [
    "head(murders)"
   ]
  },
  {
   "cell_type": "markdown",
   "metadata": {},
   "source": [
    "Filter the dataframe with only having or satisfying the condition inside the parenthesis."
   ]
  },
  {
   "cell_type": "code",
   "execution_count": 56,
   "metadata": {},
   "outputs": [
    {
     "data": {
      "text/html": [
       "<table>\n",
       "<thead><tr><th scope=col>state</th><th scope=col>abb</th><th scope=col>region</th><th scope=col>population</th><th scope=col>total</th><th scope=col>rate</th></tr></thead>\n",
       "<tbody>\n",
       "\t<tr><td>Hawaii       </td><td>HI           </td><td>West         </td><td>1360301      </td><td> 7           </td><td>0.5145920    </td></tr>\n",
       "\t<tr><td>Iowa         </td><td>IA           </td><td>North Central</td><td>3046355      </td><td>21           </td><td>0.6893484    </td></tr>\n",
       "\t<tr><td>New Hampshire</td><td>NH           </td><td>Northeast    </td><td>1316470      </td><td> 5           </td><td>0.3798036    </td></tr>\n",
       "\t<tr><td>North Dakota </td><td>ND           </td><td>North Central</td><td> 672591      </td><td> 4           </td><td>0.5947151    </td></tr>\n",
       "\t<tr><td>Vermont      </td><td>VT           </td><td>Northeast    </td><td> 625741      </td><td> 2           </td><td>0.3196211    </td></tr>\n",
       "</tbody>\n",
       "</table>\n"
      ],
      "text/latex": [
       "\\begin{tabular}{r|llllll}\n",
       " state & abb & region & population & total & rate\\\\\n",
       "\\hline\n",
       "\t Hawaii        & HI            & West          & 1360301       &  7            & 0.5145920    \\\\\n",
       "\t Iowa          & IA            & North Central & 3046355       & 21            & 0.6893484    \\\\\n",
       "\t New Hampshire & NH            & Northeast     & 1316470       &  5            & 0.3798036    \\\\\n",
       "\t North Dakota  & ND            & North Central &  672591       &  4            & 0.5947151    \\\\\n",
       "\t Vermont       & VT            & Northeast     &  625741       &  2            & 0.3196211    \\\\\n",
       "\\end{tabular}\n"
      ],
      "text/markdown": [
       "\n",
       "state | abb | region | population | total | rate | \n",
       "|---|---|---|---|---|\n",
       "| Hawaii        | HI            | West          | 1360301       |  7            | 0.5145920     | \n",
       "| Iowa          | IA            | North Central | 3046355       | 21            | 0.6893484     | \n",
       "| New Hampshire | NH            | Northeast     | 1316470       |  5            | 0.3798036     | \n",
       "| North Dakota  | ND            | North Central |  672591       |  4            | 0.5947151     | \n",
       "| Vermont       | VT            | Northeast     |  625741       |  2            | 0.3196211     | \n",
       "\n",
       "\n"
      ],
      "text/plain": [
       "  state         abb region        population total rate     \n",
       "1 Hawaii        HI  West          1360301     7    0.5145920\n",
       "2 Iowa          IA  North Central 3046355    21    0.6893484\n",
       "3 New Hampshire NH  Northeast     1316470     5    0.3798036\n",
       "4 North Dakota  ND  North Central  672591     4    0.5947151\n",
       "5 Vermont       VT  Northeast      625741     2    0.3196211"
      ]
     },
     "metadata": {},
     "output_type": "display_data"
    }
   ],
   "source": [
    "filter(murders,rate <= 0.71)"
   ]
  },
  {
   "cell_type": "code",
   "execution_count": 57,
   "metadata": {},
   "outputs": [],
   "source": [
    "filtered_1 <- filter(murders, rate <= 0.71)"
   ]
  },
  {
   "cell_type": "code",
   "execution_count": 58,
   "metadata": {},
   "outputs": [
    {
     "data": {
      "text/html": [
       "<table>\n",
       "<thead><tr><th scope=col>state</th><th scope=col>abb</th><th scope=col>region</th><th scope=col>population</th><th scope=col>total</th><th scope=col>rate</th></tr></thead>\n",
       "<tbody>\n",
       "\t<tr><td>Hawaii       </td><td>HI           </td><td>West         </td><td>1360301      </td><td> 7           </td><td>0.5145920    </td></tr>\n",
       "\t<tr><td>Iowa         </td><td>IA           </td><td>North Central</td><td>3046355      </td><td>21           </td><td>0.6893484    </td></tr>\n",
       "\t<tr><td>New Hampshire</td><td>NH           </td><td>Northeast    </td><td>1316470      </td><td> 5           </td><td>0.3798036    </td></tr>\n",
       "\t<tr><td>North Dakota </td><td>ND           </td><td>North Central</td><td> 672591      </td><td> 4           </td><td>0.5947151    </td></tr>\n",
       "\t<tr><td>Vermont      </td><td>VT           </td><td>Northeast    </td><td> 625741      </td><td> 2           </td><td>0.3196211    </td></tr>\n",
       "</tbody>\n",
       "</table>\n"
      ],
      "text/latex": [
       "\\begin{tabular}{r|llllll}\n",
       " state & abb & region & population & total & rate\\\\\n",
       "\\hline\n",
       "\t Hawaii        & HI            & West          & 1360301       &  7            & 0.5145920    \\\\\n",
       "\t Iowa          & IA            & North Central & 3046355       & 21            & 0.6893484    \\\\\n",
       "\t New Hampshire & NH            & Northeast     & 1316470       &  5            & 0.3798036    \\\\\n",
       "\t North Dakota  & ND            & North Central &  672591       &  4            & 0.5947151    \\\\\n",
       "\t Vermont       & VT            & Northeast     &  625741       &  2            & 0.3196211    \\\\\n",
       "\\end{tabular}\n"
      ],
      "text/markdown": [
       "\n",
       "state | abb | region | population | total | rate | \n",
       "|---|---|---|---|---|\n",
       "| Hawaii        | HI            | West          | 1360301       |  7            | 0.5145920     | \n",
       "| Iowa          | IA            | North Central | 3046355       | 21            | 0.6893484     | \n",
       "| New Hampshire | NH            | Northeast     | 1316470       |  5            | 0.3798036     | \n",
       "| North Dakota  | ND            | North Central |  672591       |  4            | 0.5947151     | \n",
       "| Vermont       | VT            | Northeast     |  625741       |  2            | 0.3196211     | \n",
       "\n",
       "\n"
      ],
      "text/plain": [
       "  state         abb region        population total rate     \n",
       "1 Hawaii        HI  West          1360301     7    0.5145920\n",
       "2 Iowa          IA  North Central 3046355    21    0.6893484\n",
       "3 New Hampshire NH  Northeast     1316470     5    0.3798036\n",
       "4 North Dakota  ND  North Central  672591     4    0.5947151\n",
       "5 Vermont       VT  Northeast      625741     2    0.3196211"
      ]
     },
     "metadata": {},
     "output_type": "display_data"
    }
   ],
   "source": [
    "filtered_1"
   ]
  },
  {
   "cell_type": "markdown",
   "metadata": {},
   "source": [
    "`Select` function only selects the column which you need."
   ]
  },
  {
   "cell_type": "code",
   "execution_count": 59,
   "metadata": {},
   "outputs": [],
   "source": [
    "new_table <- select(murders, state, region, rate)"
   ]
  },
  {
   "cell_type": "code",
   "execution_count": 60,
   "metadata": {},
   "outputs": [
    {
     "data": {
      "text/html": [
       "<table>\n",
       "<thead><tr><th scope=col>state</th><th scope=col>region</th><th scope=col>rate</th></tr></thead>\n",
       "<tbody>\n",
       "\t<tr><td>Alabama   </td><td>South     </td><td>2.824424  </td></tr>\n",
       "\t<tr><td>Alaska    </td><td>West      </td><td>2.675186  </td></tr>\n",
       "\t<tr><td>Arizona   </td><td>West      </td><td>3.629527  </td></tr>\n",
       "\t<tr><td>Arkansas  </td><td>South     </td><td>3.189390  </td></tr>\n",
       "\t<tr><td>California</td><td>West      </td><td>3.374138  </td></tr>\n",
       "\t<tr><td>Colorado  </td><td>West      </td><td>1.292453  </td></tr>\n",
       "</tbody>\n",
       "</table>\n"
      ],
      "text/latex": [
       "\\begin{tabular}{r|lll}\n",
       " state & region & rate\\\\\n",
       "\\hline\n",
       "\t Alabama    & South      & 2.824424  \\\\\n",
       "\t Alaska     & West       & 2.675186  \\\\\n",
       "\t Arizona    & West       & 3.629527  \\\\\n",
       "\t Arkansas   & South      & 3.189390  \\\\\n",
       "\t California & West       & 3.374138  \\\\\n",
       "\t Colorado   & West       & 1.292453  \\\\\n",
       "\\end{tabular}\n"
      ],
      "text/markdown": [
       "\n",
       "state | region | rate | \n",
       "|---|---|---|---|---|---|\n",
       "| Alabama    | South      | 2.824424   | \n",
       "| Alaska     | West       | 2.675186   | \n",
       "| Arizona    | West       | 3.629527   | \n",
       "| Arkansas   | South      | 3.189390   | \n",
       "| California | West       | 3.374138   | \n",
       "| Colorado   | West       | 1.292453   | \n",
       "\n",
       "\n"
      ],
      "text/plain": [
       "  state      region rate    \n",
       "1 Alabama    South  2.824424\n",
       "2 Alaska     West   2.675186\n",
       "3 Arizona    West   3.629527\n",
       "4 Arkansas   South  3.189390\n",
       "5 California West   3.374138\n",
       "6 Colorado   West   1.292453"
      ]
     },
     "metadata": {},
     "output_type": "display_data"
    }
   ],
   "source": [
    "head(new_table)"
   ]
  },
  {
   "cell_type": "code",
   "execution_count": 61,
   "metadata": {},
   "outputs": [
    {
     "data": {
      "text/html": [
       "<table>\n",
       "<thead><tr><th scope=col>state</th><th scope=col>region</th><th scope=col>rate</th></tr></thead>\n",
       "<tbody>\n",
       "\t<tr><td>Hawaii       </td><td>West         </td><td>0.5145920    </td></tr>\n",
       "\t<tr><td>Iowa         </td><td>North Central</td><td>0.6893484    </td></tr>\n",
       "\t<tr><td>New Hampshire</td><td>Northeast    </td><td>0.3798036    </td></tr>\n",
       "\t<tr><td>North Dakota </td><td>North Central</td><td>0.5947151    </td></tr>\n",
       "\t<tr><td>Vermont      </td><td>Northeast    </td><td>0.3196211    </td></tr>\n",
       "</tbody>\n",
       "</table>\n"
      ],
      "text/latex": [
       "\\begin{tabular}{r|lll}\n",
       " state & region & rate\\\\\n",
       "\\hline\n",
       "\t Hawaii        & West          & 0.5145920    \\\\\n",
       "\t Iowa          & North Central & 0.6893484    \\\\\n",
       "\t New Hampshire & Northeast     & 0.3798036    \\\\\n",
       "\t North Dakota  & North Central & 0.5947151    \\\\\n",
       "\t Vermont       & Northeast     & 0.3196211    \\\\\n",
       "\\end{tabular}\n"
      ],
      "text/markdown": [
       "\n",
       "state | region | rate | \n",
       "|---|---|---|---|---|\n",
       "| Hawaii        | West          | 0.5145920     | \n",
       "| Iowa          | North Central | 0.6893484     | \n",
       "| New Hampshire | Northeast     | 0.3798036     | \n",
       "| North Dakota  | North Central | 0.5947151     | \n",
       "| Vermont       | Northeast     | 0.3196211     | \n",
       "\n",
       "\n"
      ],
      "text/plain": [
       "  state         region        rate     \n",
       "1 Hawaii        West          0.5145920\n",
       "2 Iowa          North Central 0.6893484\n",
       "3 New Hampshire Northeast     0.3798036\n",
       "4 North Dakota  North Central 0.5947151\n",
       "5 Vermont       Northeast     0.3196211"
      ]
     },
     "metadata": {},
     "output_type": "display_data"
    }
   ],
   "source": [
    "filter(new_table, rate <= 0.71)"
   ]
  },
  {
   "cell_type": "markdown",
   "metadata": {},
   "source": [
    "The function `%>%` means pipe. It will use functions consecutively through the pipe. It will be like a processing series where you do consecutive functions from one result unto other."
   ]
  },
  {
   "cell_type": "code",
   "execution_count": 62,
   "metadata": {},
   "outputs": [
    {
     "data": {
      "text/html": [
       "<table>\n",
       "<thead><tr><th scope=col>state</th><th scope=col>region</th><th scope=col>rate</th></tr></thead>\n",
       "<tbody>\n",
       "\t<tr><td>Hawaii       </td><td>West         </td><td>0.5145920    </td></tr>\n",
       "\t<tr><td>Iowa         </td><td>North Central</td><td>0.6893484    </td></tr>\n",
       "\t<tr><td>New Hampshire</td><td>Northeast    </td><td>0.3798036    </td></tr>\n",
       "\t<tr><td>North Dakota </td><td>North Central</td><td>0.5947151    </td></tr>\n",
       "\t<tr><td>Vermont      </td><td>Northeast    </td><td>0.3196211    </td></tr>\n",
       "</tbody>\n",
       "</table>\n"
      ],
      "text/latex": [
       "\\begin{tabular}{r|lll}\n",
       " state & region & rate\\\\\n",
       "\\hline\n",
       "\t Hawaii        & West          & 0.5145920    \\\\\n",
       "\t Iowa          & North Central & 0.6893484    \\\\\n",
       "\t New Hampshire & Northeast     & 0.3798036    \\\\\n",
       "\t North Dakota  & North Central & 0.5947151    \\\\\n",
       "\t Vermont       & Northeast     & 0.3196211    \\\\\n",
       "\\end{tabular}\n"
      ],
      "text/markdown": [
       "\n",
       "state | region | rate | \n",
       "|---|---|---|---|---|\n",
       "| Hawaii        | West          | 0.5145920     | \n",
       "| Iowa          | North Central | 0.6893484     | \n",
       "| New Hampshire | Northeast     | 0.3798036     | \n",
       "| North Dakota  | North Central | 0.5947151     | \n",
       "| Vermont       | Northeast     | 0.3196211     | \n",
       "\n",
       "\n"
      ],
      "text/plain": [
       "  state         region        rate     \n",
       "1 Hawaii        West          0.5145920\n",
       "2 Iowa          North Central 0.6893484\n",
       "3 New Hampshire Northeast     0.3798036\n",
       "4 North Dakota  North Central 0.5947151\n",
       "5 Vermont       Northeast     0.3196211"
      ]
     },
     "metadata": {},
     "output_type": "display_data"
    }
   ],
   "source": [
    "murders %>% select(state, region, rate) %>% filter(rate <= 0.71)"
   ]
  },
  {
   "cell_type": "code",
   "execution_count": 63,
   "metadata": {},
   "outputs": [],
   "source": [
    "grades <- data.frame(names = c(\"John\", \"Juan\", \"Jean\", \"Yao\"),\n",
    "                    exam_1 = c(95, 80, 90, 85),\n",
    "                    exam_2 = c(90, 85, 85, 90))"
   ]
  },
  {
   "cell_type": "code",
   "execution_count": 64,
   "metadata": {},
   "outputs": [
    {
     "data": {
      "text/html": [
       "<table>\n",
       "<thead><tr><th scope=col>names</th><th scope=col>exam_1</th><th scope=col>exam_2</th></tr></thead>\n",
       "<tbody>\n",
       "\t<tr><td>John</td><td>95  </td><td>90  </td></tr>\n",
       "\t<tr><td>Juan</td><td>80  </td><td>85  </td></tr>\n",
       "\t<tr><td>Jean</td><td>90  </td><td>85  </td></tr>\n",
       "\t<tr><td>Yao </td><td>85  </td><td>90  </td></tr>\n",
       "</tbody>\n",
       "</table>\n"
      ],
      "text/latex": [
       "\\begin{tabular}{r|lll}\n",
       " names & exam\\_1 & exam\\_2\\\\\n",
       "\\hline\n",
       "\t John & 95   & 90  \\\\\n",
       "\t Juan & 80   & 85  \\\\\n",
       "\t Jean & 90   & 85  \\\\\n",
       "\t Yao  & 85   & 90  \\\\\n",
       "\\end{tabular}\n"
      ],
      "text/markdown": [
       "\n",
       "names | exam_1 | exam_2 | \n",
       "|---|---|---|---|\n",
       "| John | 95   | 90   | \n",
       "| Juan | 80   | 85   | \n",
       "| Jean | 90   | 85   | \n",
       "| Yao  | 85   | 90   | \n",
       "\n",
       "\n"
      ],
      "text/plain": [
       "  names exam_1 exam_2\n",
       "1 John  95     90    \n",
       "2 Juan  80     85    \n",
       "3 Jean  90     85    \n",
       "4 Yao   85     90    "
      ]
     },
     "metadata": {},
     "output_type": "display_data"
    }
   ],
   "source": [
    "grades"
   ]
  },
  {
   "cell_type": "code",
   "execution_count": 65,
   "metadata": {},
   "outputs": [
    {
     "data": {
      "text/html": [
       "'factor'"
      ],
      "text/latex": [
       "'factor'"
      ],
      "text/markdown": [
       "'factor'"
      ],
      "text/plain": [
       "[1] \"factor\""
      ]
     },
     "metadata": {},
     "output_type": "display_data"
    }
   ],
   "source": [
    "class(grades$names)"
   ]
  },
  {
   "cell_type": "markdown",
   "metadata": {},
   "source": [
    "If your data is treated as factors *(booleans)*, you should add in your import or in dataframe creation, the argument `stringsAsFactors = FALSE`."
   ]
  },
  {
   "cell_type": "code",
   "execution_count": 66,
   "metadata": {},
   "outputs": [],
   "source": [
    "grades <- data.frame(names = c(\"John\", \"Juan\", \"Jean\", \"Yao\"),\n",
    "                    exam_1 = c(95, 80, 90, 85),\n",
    "                    exam_2 = c(90, 85, 85, 90),\n",
    "                    stringsAsFactors = FALSE)"
   ]
  },
  {
   "cell_type": "code",
   "execution_count": 67,
   "metadata": {},
   "outputs": [
    {
     "data": {
      "text/html": [
       "<table>\n",
       "<thead><tr><th scope=col>names</th><th scope=col>exam_1</th><th scope=col>exam_2</th></tr></thead>\n",
       "<tbody>\n",
       "\t<tr><td>John</td><td>95  </td><td>90  </td></tr>\n",
       "\t<tr><td>Juan</td><td>80  </td><td>85  </td></tr>\n",
       "\t<tr><td>Jean</td><td>90  </td><td>85  </td></tr>\n",
       "\t<tr><td>Yao </td><td>85  </td><td>90  </td></tr>\n",
       "</tbody>\n",
       "</table>\n"
      ],
      "text/latex": [
       "\\begin{tabular}{r|lll}\n",
       " names & exam\\_1 & exam\\_2\\\\\n",
       "\\hline\n",
       "\t John & 95   & 90  \\\\\n",
       "\t Juan & 80   & 85  \\\\\n",
       "\t Jean & 90   & 85  \\\\\n",
       "\t Yao  & 85   & 90  \\\\\n",
       "\\end{tabular}\n"
      ],
      "text/markdown": [
       "\n",
       "names | exam_1 | exam_2 | \n",
       "|---|---|---|---|\n",
       "| John | 95   | 90   | \n",
       "| Juan | 80   | 85   | \n",
       "| Jean | 90   | 85   | \n",
       "| Yao  | 85   | 90   | \n",
       "\n",
       "\n"
      ],
      "text/plain": [
       "  names exam_1 exam_2\n",
       "1 John  95     90    \n",
       "2 Juan  80     85    \n",
       "3 Jean  90     85    \n",
       "4 Yao   85     90    "
      ]
     },
     "metadata": {},
     "output_type": "display_data"
    }
   ],
   "source": [
    "grades"
   ]
  },
  {
   "cell_type": "markdown",
   "metadata": {},
   "source": [
    "The names column is now treated by R as a character object."
   ]
  },
  {
   "cell_type": "code",
   "execution_count": 68,
   "metadata": {},
   "outputs": [
    {
     "data": {
      "text/html": [
       "'character'"
      ],
      "text/latex": [
       "'character'"
      ],
      "text/markdown": [
       "'character'"
      ],
      "text/plain": [
       "[1] \"character\""
      ]
     },
     "metadata": {},
     "output_type": "display_data"
    }
   ],
   "source": [
    "class(grades$names)"
   ]
  },
  {
   "cell_type": "markdown",
   "metadata": {},
   "source": [
    "## Some else-if and for statements."
   ]
  },
  {
   "cell_type": "markdown",
   "metadata": {},
   "source": [
    "General Form of an If-Else statement in R.\n",
    ">```R\n",
    "if (boolean condition){\n",
    "    expressions\n",
    "}   else{\n",
    "    alternative expressions\n",
    "}\n",
    "```\n"
   ]
  },
  {
   "cell_type": "code",
   "execution_count": 69,
   "metadata": {},
   "outputs": [
    {
     "name": "stdout",
     "output_type": "stream",
     "text": [
      "[1] 0.5\n"
     ]
    }
   ],
   "source": [
    "a <- 2\n",
    "if(a != 0){\n",
    "    print(1/a)\n",
    "}   else{\n",
    "    print(\"No reciprocal for zero\")\n",
    "}"
   ]
  },
  {
   "cell_type": "code",
   "execution_count": 70,
   "metadata": {},
   "outputs": [
    {
     "name": "stdout",
     "output_type": "stream",
     "text": [
      "[1] \"Vermont\"\n"
     ]
    }
   ],
   "source": [
    "ind <- which.min(murder_rate)\n",
    "if(murder_rate[ind]<0.5){\n",
    "    print(murders$state[ind])\n",
    "}else{\n",
    "    print (\"No one\")\n",
    "}"
   ]
  },
  {
   "cell_type": "code",
   "execution_count": 71,
   "metadata": {},
   "outputs": [
    {
     "data": {
      "text/html": [
       "<pre class=language-r><code>function (test, yes, no) \n",
       "{\n",
       "<span style=white-space:pre-wrap>    if (is.atomic(test)) {</span>\n",
       "<span style=white-space:pre-wrap>        if (typeof(test) != \"logical\") </span>\n",
       "<span style=white-space:pre-wrap>            storage.mode(test) &lt;- \"logical\"</span>\n",
       "<span style=white-space:pre-wrap>        if (length(test) == 1 &amp;&amp; is.null(attributes(test))) {</span>\n",
       "<span style=white-space:pre-wrap>            if (is.na(test)) </span>\n",
       "<span style=white-space:pre-wrap>                return(NA)</span>\n",
       "<span style=white-space:pre-wrap>            else if (test) {</span>\n",
       "<span style=white-space:pre-wrap>                if (length(yes) == 1) {</span>\n",
       "<span style=white-space:pre-wrap>                  yat &lt;- attributes(yes)</span>\n",
       "<span style=white-space:pre-wrap>                  if (is.null(yat) || (is.function(yes) &amp;&amp; identical(names(yat), </span>\n",
       "<span style=white-space:pre-wrap>                    \"srcref\"))) </span>\n",
       "<span style=white-space:pre-wrap>                    return(yes)</span>\n",
       "<span style=white-space:pre-wrap>                }</span>\n",
       "<span style=white-space:pre-wrap>            }</span>\n",
       "<span style=white-space:pre-wrap>            else if (length(no) == 1) {</span>\n",
       "<span style=white-space:pre-wrap>                nat &lt;- attributes(no)</span>\n",
       "<span style=white-space:pre-wrap>                if (is.null(nat) || (is.function(no) &amp;&amp; identical(names(nat), </span>\n",
       "<span style=white-space:pre-wrap>                  \"srcref\"))) </span>\n",
       "<span style=white-space:pre-wrap>                  return(no)</span>\n",
       "<span style=white-space:pre-wrap>            }</span>\n",
       "<span style=white-space:pre-wrap>        }</span>\n",
       "<span style=white-space:pre-wrap>    }</span>\n",
       "<span style=white-space:pre-wrap>    else test &lt;- if (isS4(test)) </span>\n",
       "<span style=white-space:pre-wrap>        methods::as(test, \"logical\")</span>\n",
       "<span style=white-space:pre-wrap>    else as.logical(test)</span>\n",
       "<span style=white-space:pre-wrap>    ans &lt;- test</span>\n",
       "<span style=white-space:pre-wrap>    ok &lt;- !is.na(test)</span>\n",
       "<span style=white-space:pre-wrap>    if (any(test[ok])) </span>\n",
       "<span style=white-space:pre-wrap>        ans[test &amp; ok] &lt;- rep(yes, length.out = length(ans))[test &amp; </span>\n",
       "<span style=white-space:pre-wrap>            ok]</span>\n",
       "<span style=white-space:pre-wrap>    if (any(!test[ok])) </span>\n",
       "<span style=white-space:pre-wrap>        ans[!test &amp; ok] &lt;- rep(no, length.out = length(ans))[!test &amp; </span>\n",
       "<span style=white-space:pre-wrap>            ok]</span>\n",
       "<span style=white-space:pre-wrap>    ans</span>\n",
       "}</code></pre>"
      ],
      "text/latex": [
       "\\begin{minted}{r}\n",
       "function (test, yes, no) \n",
       "\\{\n",
       "    if (is.atomic(test)) \\{\n",
       "        if (typeof(test) != \"logical\") \n",
       "            storage.mode(test) <- \"logical\"\n",
       "        if (length(test) == 1 \\&\\& is.null(attributes(test))) \\{\n",
       "            if (is.na(test)) \n",
       "                return(NA)\n",
       "            else if (test) \\{\n",
       "                if (length(yes) == 1) \\{\n",
       "                  yat <- attributes(yes)\n",
       "                  if (is.null(yat) \\textbar{}\\textbar{} (is.function(yes) \\&\\& identical(names(yat), \n",
       "                    \"srcref\"))) \n",
       "                    return(yes)\n",
       "                \\}\n",
       "            \\}\n",
       "            else if (length(no) == 1) \\{\n",
       "                nat <- attributes(no)\n",
       "                if (is.null(nat) \\textbar{}\\textbar{} (is.function(no) \\&\\& identical(names(nat), \n",
       "                  \"srcref\"))) \n",
       "                  return(no)\n",
       "            \\}\n",
       "        \\}\n",
       "    \\}\n",
       "    else test <- if (isS4(test)) \n",
       "        methods::as(test, \"logical\")\n",
       "    else as.logical(test)\n",
       "    ans <- test\n",
       "    ok <- !is.na(test)\n",
       "    if (any(test{[}ok{]})) \n",
       "        ans{[}test \\& ok{]} <- rep(yes, length.out = length(ans)){[}test \\& \n",
       "            ok{]}\n",
       "    if (any(!test{[}ok{]})) \n",
       "        ans{[}!test \\& ok{]} <- rep(no, length.out = length(ans)){[}!test \\& \n",
       "            ok{]}\n",
       "    ans\n",
       "\\}\n",
       "\\end{minted}"
      ],
      "text/markdown": [
       "```r\n",
       "function (test, yes, no) \n",
       "{\n",
       "    if (is.atomic(test)) {\n",
       "        if (typeof(test) != \"logical\") \n",
       "            storage.mode(test) <- \"logical\"\n",
       "        if (length(test) == 1 && is.null(attributes(test))) {\n",
       "            if (is.na(test)) \n",
       "                return(NA)\n",
       "            else if (test) {\n",
       "                if (length(yes) == 1) {\n",
       "                  yat <- attributes(yes)\n",
       "                  if (is.null(yat) || (is.function(yes) && identical(names(yat), \n",
       "                    \"srcref\"))) \n",
       "                    return(yes)\n",
       "                }\n",
       "            }\n",
       "            else if (length(no) == 1) {\n",
       "                nat <- attributes(no)\n",
       "                if (is.null(nat) || (is.function(no) && identical(names(nat), \n",
       "                  \"srcref\"))) \n",
       "                  return(no)\n",
       "            }\n",
       "        }\n",
       "    }\n",
       "    else test <- if (isS4(test)) \n",
       "        methods::as(test, \"logical\")\n",
       "    else as.logical(test)\n",
       "    ans <- test\n",
       "    ok <- !is.na(test)\n",
       "    if (any(test[ok])) \n",
       "        ans[test & ok] <- rep(yes, length.out = length(ans))[test & \n",
       "            ok]\n",
       "    if (any(!test[ok])) \n",
       "        ans[!test & ok] <- rep(no, length.out = length(ans))[!test & \n",
       "            ok]\n",
       "    ans\n",
       "}\n",
       "```"
      ],
      "text/plain": [
       "function (test, yes, no) \n",
       "{\n",
       "    if (is.atomic(test)) {\n",
       "        if (typeof(test) != \"logical\") \n",
       "            storage.mode(test) <- \"logical\"\n",
       "        if (length(test) == 1 && is.null(attributes(test))) {\n",
       "            if (is.na(test)) \n",
       "                return(NA)\n",
       "            else if (test) {\n",
       "                if (length(yes) == 1) {\n",
       "                  yat <- attributes(yes)\n",
       "                  if (is.null(yat) || (is.function(yes) && identical(names(yat), \n",
       "                    \"srcref\"))) \n",
       "                    return(yes)\n",
       "                }\n",
       "            }\n",
       "            else if (length(no) == 1) {\n",
       "                nat <- attributes(no)\n",
       "                if (is.null(nat) || (is.function(no) && identical(names(nat), \n",
       "                  \"srcref\"))) \n",
       "                  return(no)\n",
       "            }\n",
       "        }\n",
       "    }\n",
       "    else test <- if (isS4(test)) \n",
       "        methods::as(test, \"logical\")\n",
       "    else as.logical(test)\n",
       "    ans <- test\n",
       "    ok <- !is.na(test)\n",
       "    if (any(test[ok])) \n",
       "        ans[test & ok] <- rep(yes, length.out = length(ans))[test & \n",
       "            ok]\n",
       "    if (any(!test[ok])) \n",
       "        ans[!test & ok] <- rep(no, length.out = length(ans))[!test & \n",
       "            ok]\n",
       "    ans\n",
       "}\n",
       "<bytecode: 0x00000000170d2720>\n",
       "<environment: namespace:base>"
      ]
     },
     "metadata": {},
     "output_type": "display_data"
    }
   ],
   "source": [
    "ifelse "
   ]
  },
  {
   "cell_type": "code",
   "execution_count": 72,
   "metadata": {},
   "outputs": [
    {
     "data": {
      "text/html": [
       "&lt;NA&gt;"
      ],
      "text/latex": [
       "<NA>"
      ],
      "text/markdown": [
       "&lt;NA&gt;"
      ],
      "text/plain": [
       "[1] NA"
      ]
     },
     "metadata": {},
     "output_type": "display_data"
    }
   ],
   "source": [
    "a <- 0\n",
    "ifelse(a>0,1/a,NA)"
   ]
  },
  {
   "cell_type": "markdown",
   "metadata": {},
   "source": [
    "In this syntax:\n",
    "> ```R\n",
    "a <- 0\n",
    "ifelse(a>0,1/a,NA)\n",
    "```\n",
    "\n",
    "The `a>0` is the condition\n",
    "\n",
    "The 1/a will be done if the condition returns TRUE.\n",
    "\n",
    "The NA will be returned if the conditions hasn't been met"
   ]
  },
  {
   "cell_type": "code",
   "execution_count": 73,
   "metadata": {},
   "outputs": [
    {
     "data": {
      "text/html": [
       "<ol class=list-inline>\n",
       "\t<li>&lt;NA&gt;</li>\n",
       "\t<li>1</li>\n",
       "\t<li>0.5</li>\n",
       "\t<li>&lt;NA&gt;</li>\n",
       "\t<li>0.2</li>\n",
       "</ol>\n"
      ],
      "text/latex": [
       "\\begin{enumerate*}\n",
       "\\item <NA>\n",
       "\\item 1\n",
       "\\item 0.5\n",
       "\\item <NA>\n",
       "\\item 0.2\n",
       "\\end{enumerate*}\n"
      ],
      "text/markdown": [
       "1. &lt;NA&gt;\n",
       "2. 1\n",
       "3. 0.5\n",
       "4. &lt;NA&gt;\n",
       "5. 0.2\n",
       "\n",
       "\n"
      ],
      "text/plain": [
       "[1]  NA 1.0 0.5  NA 0.2"
      ]
     },
     "metadata": {},
     "output_type": "display_data"
    }
   ],
   "source": [
    "a <- c(0,1,2,-4,5)\n",
    "result <- ifelse(a>0, 1/a, NA)\n",
    "result"
   ]
  },
  {
   "cell_type": "code",
   "execution_count": 74,
   "metadata": {},
   "outputs": [
    {
     "data": {
      "text/html": [
       "145"
      ],
      "text/latex": [
       "145"
      ],
      "text/markdown": [
       "145"
      ],
      "text/plain": [
       "[1] 145"
      ]
     },
     "metadata": {},
     "output_type": "display_data"
    }
   ],
   "source": [
    "data(na_example)\n",
    "sum(is.na(na_example))"
   ]
  },
  {
   "cell_type": "code",
   "execution_count": 75,
   "metadata": {},
   "outputs": [
    {
     "data": {
      "text/html": [
       "0"
      ],
      "text/latex": [
       "0"
      ],
      "text/markdown": [
       "0"
      ],
      "text/plain": [
       "[1] 0"
      ]
     },
     "metadata": {},
     "output_type": "display_data"
    }
   ],
   "source": [
    "no_nas <- ifelse(is.na(na_example),0,na_example)\n",
    "sum(is.na(no_nas))"
   ]
  },
  {
   "cell_type": "code",
   "execution_count": 76,
   "metadata": {},
   "outputs": [],
   "source": [
    "z <- c(TRUE, TRUE, FALSE)"
   ]
  },
  {
   "cell_type": "markdown",
   "metadata": {},
   "source": [
    "`any` and `all` function checks if there is any and there is all if all of them are true. Self-explanatory."
   ]
  },
  {
   "cell_type": "code",
   "execution_count": 77,
   "metadata": {},
   "outputs": [
    {
     "data": {
      "text/html": [
       "TRUE"
      ],
      "text/latex": [
       "TRUE"
      ],
      "text/markdown": [
       "TRUE"
      ],
      "text/plain": [
       "[1] TRUE"
      ]
     },
     "metadata": {},
     "output_type": "display_data"
    }
   ],
   "source": [
    "any(z)"
   ]
  },
  {
   "cell_type": "code",
   "execution_count": 78,
   "metadata": {},
   "outputs": [],
   "source": [
    "z <- c(FALSE, FALSE, FALSE)"
   ]
  },
  {
   "cell_type": "code",
   "execution_count": 79,
   "metadata": {},
   "outputs": [
    {
     "data": {
      "text/html": [
       "FALSE"
      ],
      "text/latex": [
       "FALSE"
      ],
      "text/markdown": [
       "FALSE"
      ],
      "text/plain": [
       "[1] FALSE"
      ]
     },
     "metadata": {},
     "output_type": "display_data"
    }
   ],
   "source": [
    "any(z) # all function works the same"
   ]
  },
  {
   "cell_type": "markdown",
   "metadata": {},
   "source": [
    "### Functions\n",
    "\n",
    "It's very similar to python. If you are doing the same thing over and over again, save the formula as a function and then call the function with different values but will go through the same formula. (You should check my Python Tutorial Notebook)"
   ]
  },
  {
   "cell_type": "code",
   "execution_count": 80,
   "metadata": {},
   "outputs": [],
   "source": [
    "avg <- function(x){\n",
    "    s <- sum(x)\n",
    "    n <- length(x)\n",
    "    s/n\n",
    "}"
   ]
  },
  {
   "cell_type": "code",
   "execution_count": 81,
   "metadata": {},
   "outputs": [
    {
     "data": {
      "text/html": [
       "36.5"
      ],
      "text/latex": [
       "36.5"
      ],
      "text/markdown": [
       "36.5"
      ],
      "text/plain": [
       "[1] 36.5"
      ]
     },
     "metadata": {},
     "output_type": "display_data"
    }
   ],
   "source": [
    "avg(c(21,52))"
   ]
  },
  {
   "cell_type": "code",
   "execution_count": 82,
   "metadata": {},
   "outputs": [
    {
     "data": {
      "text/html": [
       "15"
      ],
      "text/latex": [
       "15"
      ],
      "text/markdown": [
       "15"
      ],
      "text/plain": [
       "[1] 15"
      ]
     },
     "metadata": {},
     "output_type": "display_data"
    }
   ],
   "source": [
    "compute_s_n <- function(n){\n",
    "    x <- 1:n\n",
    "    sum(x)\n",
    "}\n",
    "compute_s_n(5)"
   ]
  },
  {
   "cell_type": "markdown",
   "metadata": {},
   "source": [
    "### For Loops"
   ]
  },
  {
   "cell_type": "markdown",
   "metadata": {},
   "source": [
    "```R\n",
    "for (i in range of values) {\n",
    "    operations that use i, \n",
    "    which is changing across\n",
    "    the range of values\n",
    "}```\n",
    "\n",
    "```R\n",
    "for(i in 1:5){\n",
    "print(i)\n",
    "}\n",
    "```"
   ]
  },
  {
   "cell_type": "code",
   "execution_count": 83,
   "metadata": {},
   "outputs": [],
   "source": [
    "m <- 25\n",
    "s_n <- vector(length = m)\n",
    "for(n in 1:m){\n",
    "    s_n[n] <- compute_s_n(n)\n",
    "}"
   ]
  },
  {
   "cell_type": "code",
   "execution_count": 84,
   "metadata": {},
   "outputs": [
    {
     "data": {
      "image/png": "[encoded data removed]",
      "text/plain": [
       "plot without title"
      ]
     },
     "metadata": {},
     "output_type": "display_data"
    }
   ],
   "source": [
    "n <-1:m\n",
    "plot(n, s_n)\n",
    "lines(n, n*(n+1)/2)"
   ]
  },
  {
   "cell_type": "code",
   "execution_count": 85,
   "metadata": {},
   "outputs": [
    {
     "data": {
      "image/png": "[encoded data removed]",
      "text/plain": [
       "plot without title"
      ]
     },
     "metadata": {},
     "output_type": "display_data"
    }
   ],
   "source": [
    "population_in_millions <- murders$population/10^6\n",
    "total_gun_murders <- murders$total\n",
    "plot(population_in_millions, total_gun_murders, col = \"blue\")"
   ]
  },
  {
   "cell_type": "markdown",
   "metadata": {},
   "source": [
    "## Plotting - will not dig deeper, just simple syntax\n",
    "\n",
    "I will be uploading another one, so wait for it."
   ]
  },
  {
   "cell_type": "code",
   "execution_count": 86,
   "metadata": {},
   "outputs": [
    {
     "data": {
      "image/png": "[encoded data removed]",
      "text/plain": [
       "Plot with title \"Histogram of murder_rate\""
      ]
     },
     "metadata": {},
     "output_type": "display_data"
    }
   ],
   "source": [
    "hist(murder_rate, col = \"pink\")"
   ]
  },
  {
   "cell_type": "code",
   "execution_count": 91,
   "metadata": {
    "scrolled": false
   },
   "outputs": [
    {
     "data": {
      "image/png": "[encoded data removed]",
      "text/plain": [
       "plot without title"
      ]
     },
     "metadata": {},
     "output_type": "display_data"
    }
   ],
   "source": [
    "boxplot(rate~region, data = murders)"
   ]
  },
  {
   "cell_type": "markdown",
   "metadata": {},
   "source": [
    "Read documentations on `apply` functions.\n",
    "\n",
    "Also:\n",
    "\n",
    "> `split`, `cut`, `quantile`, `reduce`, `identical`, `unique`"
   ]
  }
 ],
 "metadata": {
  "kernelspec": {
   "display_name": "R",
   "language": "R",
   "name": "ir"
  },
  "language_info": {
   "codemirror_mode": "r",
   "file_extension": ".r",
   "mimetype": "text/x-r-source",
   "name": "R",
   "pygments_lexer": "r",
   "version": "3.5.1"
  }
 },
 "nbformat": 4,
 "nbformat_minor": 2
}
